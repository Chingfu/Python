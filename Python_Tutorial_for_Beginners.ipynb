{
 "cells": [
  {
   "cell_type": "markdown",
   "metadata": {},
   "source": [
    "# Python Tutorial for Beginners\n",
    "\n",
    "###### Youtube: https://www.youtube.com/watch?v=rfscVS0vtbw&list=PLWKjhJtqVAbnupwRFOq9zGOWjdvPRtCmO\n"
   ]
  },
  {
   "cell_type": "markdown",
   "metadata": {},
   "source": [
    "###### Chingfu Chang      2018-12-15"
   ]
  },
  {
   "cell_type": "markdown",
   "metadata": {},
   "source": [
    "###### This notes summarizes the above Youtube video to help beginners learn Python. We will run Python 3 on Anaconda which is good to do Python and R data science and machine learning on Linux, Windows, and Mac OS X."
   ]
  },
  {
   "cell_type": "markdown",
   "metadata": {},
   "source": [
    "## Installation of Anaconda"
   ]
  },
  {
   "cell_type": "markdown",
   "metadata": {},
   "source": [
    "https://www.anaconda.com/download/\n",
    "\n",
    "Download Python 3.7 version \n"
   ]
  },
  {
   "cell_type": "markdown",
   "metadata": {},
   "source": [
    "## Running Python 3 on Anaconda"
   ]
  },
  {
   "cell_type": "markdown",
   "metadata": {},
   "source": [
    "We use Spider of Anaconda to run Python. For Windows 10 users, we can do a small exercise and get the result as follows. \n",
    "\n",
    "1.\tClick “Start” icon of Windows 10\n",
    "    * Click “Anaconda 3” from program list \n",
    "    * Click “Spider” \n",
    "\n",
    "2.\tOn the left editor console of Spyder, type “Hello, World!”\n",
    "\n",
    "3.\tHighlight “Hello, World!” \n",
    "    * right click the highlighted code \n",
    "    * click \"Run selection or current line\" \n",
    "    * on the right lower IPython console, you can see the output: \n",
    "        + In [1]: print(\"Hello, World!\")\n",
    "        + Hello, World!"
   ]
  },
  {
   "cell_type": "raw",
   "metadata": {},
   "source": [
    "Table of Contents\n",
    "str\n",
    "    print\n",
    "    variables\n",
    "    concatenation (+)\n",
    "    function\n",
    "    index\n",
    "num\n",
    "    print\n",
    "    modulus\n",
    "    variables\n",
    "    type conversion\n",
    "Built-in Functions\n",
    "    abs()\n",
    "    power()\n",
    "    max()\n",
    "    min()\n",
    "    round()\n",
    "import modules\n",
    "Getting data from users\n",
    "    input()\n",
    "Building a Basic Calculator: input()\n",
    "Mad Libs Game\n",
    "\n",
    "Lists in []\n",
    "    list index starts at 0\n",
    "    A range of the list\n",
    "    Replcing a value of an item in the list\n",
    "    \n",
    "list functions\n",
    "    list.extend()\n",
    "    list.append()\n",
    "    list.insert()\n",
    "    list.remove()\n",
    "    list.clear()\n",
    "    list.pop()\n",
    "    list.index()\n",
    "    list.count()\n",
    "    list.sort()\n",
    "        \n",
    "list functions\n",
    "        'append',\n",
    "        'clear',\n",
    "        'copy',\n",
    "        'count',\n",
    "        'extend',\n",
    "        'index',\n",
    "        'insert',\n",
    "        'pop',\n",
    "        'remove',\n",
    "        'reverse',\n",
    "        'sort'\n",
    "        \n",
    "num functions:\n",
    "    num.sort()\n",
    "    num.reverse()\n",
    "    num.copy()\n",
    "    \n",
    "num functions:\n",
    "    'append',\n",
    "    'clear',\n",
    "    'copy',\n",
    "    'count',\n",
    "    'extend',\n",
    "    'index',\n",
    "    'insert',\n",
    "    'pop',\n",
    "    'remove',\n",
    "    'reverse',\n",
    "    'sort'\n",
    "\n",
    "Tuples in ()\n",
    "\n",
    "Creating Functions\n",
    "\n",
    "if Statements\n",
    "if-elif Statements\n",
    "if-elif-else Statements\n",
    "if-elif-elif-else Statements\n",
    "\n",
    "if Statements & Comparisons\n",
    "\n",
    "Building a More Advanced Calculator\n",
    "\n",
    "Dictionaries in { } with Key-Value Pairs\n",
    "\n",
    "while loop\n",
    "    Building a Guessing Game\n",
    "    A More Complicated while Loop \n",
    "    Giving an Upper Limit of Guesses\n",
    "\n",
    "for Loop\n",
    "\n",
    "Exponent Function\n",
    "\n",
    "2D (Two-Dimensional) Lists & Nested Loops\n",
    "\n",
    "Building a Translator\n",
    "\n",
    "Comments: for human beings\n",
    "\n",
    "try:-except:\n",
    "\n",
    "Reading Files\n",
    "Reading Individual Lines from an External File\n",
    "\n",
    "Writing to Files\n",
    "\n",
    "Modules and Pip\n",
    "\n",
    "Python Module Index\n",
    "\n",
    "Classes & Objects\n",
    "\n",
    "Building a Multiple Choice Quiz\n",
    "\n",
    "Object Functions\n",
    "\n",
    "Inheritance\n",
    "\n",
    "Class without Inheritance\n",
    "\n",
    "Class with Inheritance\n",
    "\n",
    "Python Interpreter"
   ]
  },
  {
   "cell_type": "markdown",
   "metadata": {},
   "source": [
    "## Python Built-in Data Types\n",
    "+ https://www.w3schools.com/python/python_datatypes.asp"
   ]
  },
  {
   "cell_type": "raw",
   "metadata": {},
   "source": [
    "Text Type:      str\n",
    "Numeric Types:  int, float, complex\n",
    "Sequence Types:\tlist, tuple, range\n",
    "Mapping Type:\tdict\n",
    "Set Types:\t    set, frozenset\n",
    "Boolean Type:\tbool\n",
    "Binary Types:\tbytes, bytearray, memoryview"
   ]
  },
  {
   "cell_type": "code",
   "execution_count": 43,
   "metadata": {},
   "outputs": [
    {
     "name": "stdout",
     "output_type": "stream",
     "text": [
      "Built-in mutable sequence.\n",
      "\n",
      "If no argument is given, the constructor creates a new empty list.\n",
      "The argument must be an iterable if specified.\n",
      "Help on class list in module builtins:\n",
      "\n",
      "class list(object)\n",
      " |  list(iterable=(), /)\n",
      " |  \n",
      " |  Built-in mutable sequence.\n",
      " |  \n",
      " |  If no argument is given, the constructor creates a new empty list.\n",
      " |  The argument must be an iterable if specified.\n",
      " |  \n",
      " |  Methods defined here:\n",
      " |  \n",
      " |  __add__(self, value, /)\n",
      " |      Return self+value.\n",
      " |  \n",
      " |  __contains__(self, key, /)\n",
      " |      Return key in self.\n",
      " |  \n",
      " |  __delitem__(self, key, /)\n",
      " |      Delete self[key].\n",
      " |  \n",
      " |  __eq__(self, value, /)\n",
      " |      Return self==value.\n",
      " |  \n",
      " |  __ge__(self, value, /)\n",
      " |      Return self>=value.\n",
      " |  \n",
      " |  __getattribute__(self, name, /)\n",
      " |      Return getattr(self, name).\n",
      " |  \n",
      " |  __getitem__(...)\n",
      " |      x.__getitem__(y) <==> x[y]\n",
      " |  \n",
      " |  __gt__(self, value, /)\n",
      " |      Return self>value.\n",
      " |  \n",
      " |  __iadd__(self, value, /)\n",
      " |      Implement self+=value.\n",
      " |  \n",
      " |  __imul__(self, value, /)\n",
      " |      Implement self*=value.\n",
      " |  \n",
      " |  __init__(self, /, *args, **kwargs)\n",
      " |      Initialize self.  See help(type(self)) for accurate signature.\n",
      " |  \n",
      " |  __iter__(self, /)\n",
      " |      Implement iter(self).\n",
      " |  \n",
      " |  __le__(self, value, /)\n",
      " |      Return self<=value.\n",
      " |  \n",
      " |  __len__(self, /)\n",
      " |      Return len(self).\n",
      " |  \n",
      " |  __lt__(self, value, /)\n",
      " |      Return self<value.\n",
      " |  \n",
      " |  __mul__(self, value, /)\n",
      " |      Return self*value.\n",
      " |  \n",
      " |  __ne__(self, value, /)\n",
      " |      Return self!=value.\n",
      " |  \n",
      " |  __repr__(self, /)\n",
      " |      Return repr(self).\n",
      " |  \n",
      " |  __reversed__(self, /)\n",
      " |      Return a reverse iterator over the list.\n",
      " |  \n",
      " |  __rmul__(self, value, /)\n",
      " |      Return value*self.\n",
      " |  \n",
      " |  __setitem__(self, key, value, /)\n",
      " |      Set self[key] to value.\n",
      " |  \n",
      " |  __sizeof__(self, /)\n",
      " |      Return the size of the list in memory, in bytes.\n",
      " |  \n",
      " |  append(self, object, /)\n",
      " |      Append object to the end of the list.\n",
      " |  \n",
      " |  clear(self, /)\n",
      " |      Remove all items from list.\n",
      " |  \n",
      " |  copy(self, /)\n",
      " |      Return a shallow copy of the list.\n",
      " |  \n",
      " |  count(self, value, /)\n",
      " |      Return number of occurrences of value.\n",
      " |  \n",
      " |  extend(self, iterable, /)\n",
      " |      Extend list by appending elements from the iterable.\n",
      " |  \n",
      " |  index(self, value, start=0, stop=9223372036854775807, /)\n",
      " |      Return first index of value.\n",
      " |      \n",
      " |      Raises ValueError if the value is not present.\n",
      " |  \n",
      " |  insert(self, index, object, /)\n",
      " |      Insert object before index.\n",
      " |  \n",
      " |  pop(self, index=-1, /)\n",
      " |      Remove and return item at index (default last).\n",
      " |      \n",
      " |      Raises IndexError if list is empty or index is out of range.\n",
      " |  \n",
      " |  remove(self, value, /)\n",
      " |      Remove first occurrence of value.\n",
      " |      \n",
      " |      Raises ValueError if the value is not present.\n",
      " |  \n",
      " |  reverse(self, /)\n",
      " |      Reverse *IN PLACE*.\n",
      " |  \n",
      " |  sort(self, /, *, key=None, reverse=False)\n",
      " |      Stable sort *IN PLACE*.\n",
      " |  \n",
      " |  ----------------------------------------------------------------------\n",
      " |  Static methods defined here:\n",
      " |  \n",
      " |  __new__(*args, **kwargs) from builtins.type\n",
      " |      Create and return a new object.  See help(type) for accurate signature.\n",
      " |  \n",
      " |  ----------------------------------------------------------------------\n",
      " |  Data and other attributes defined here:\n",
      " |  \n",
      " |  __hash__ = None\n",
      "\n"
     ]
    }
   ],
   "source": [
    "# dir(list)\n",
    "print(list.__doc__)\n",
    "help(list)"
   ]
  },
  {
   "cell_type": "raw",
   "metadata": {},
   "source": [
    "Type         Example \n",
    "str          x = \"Hello World\"                   \n",
    "int          x = 20  \n",
    "float        x = 20.5 \n",
    "complex      x = i + 1j  \n",
    "list         x = [\"apple\", \"banana\", \"cherry\"]  \n",
    "tuple        x = (\"apple\", \"banana\", \"cherry\")  \n",
    "range        x = range(6)  \n",
    "dict         x = {\"name\" : \"John\", \"age\" : 36}  \n",
    "set          x = {\"apple\", \"banana\", \"cherry\"} \n",
    "frozenset    x = frozenset({\"apple\", \"banana\", \"cherry\"}) \n",
    "bool         x = True  \n",
    "bytes        x = b\"Hello\"  \n",
    "bytearray    x = bytearray(5)  \n",
    "memoryview   x = memoryview(bytes(5)) "
   ]
  },
  {
   "cell_type": "markdown",
   "metadata": {},
   "source": [
    "**Four Python Collections (Arrays):**\n",
    "+ **ordered?**\n",
    "+ **mutable?**\n",
    "+ **indexed?**\n",
    "+ **duplicate?**\n",
    "\n",
    "\n",
    "1. **List**: \n",
    "    1. [\"apple\", \"banana\", \"cherry\"]\n",
    "    2. a collection which is **ordered and changeable. Allows duplicate** members.\n",
    "2. **Tuple**: \n",
    "    1. (\"apple\", \"banana\", \"cherry\")\n",
    "    2. a collection which is **ordered and unchangeable. Allows duplicate** members.\n",
    "3. **Set**: \n",
    "    1. {\"apple\", \"banana\", \"cherry\"}\n",
    "    2. a collection which is **unordered and unindexed. No duplicate** members.\n",
    "4. **Dictionary**: \n",
    "    1. {\"name\" : \"John\", \"age\" : 36}\n",
    "    2. a collection which is **unordered, changeable and indexed. No duplicate** members."
   ]
  },
  {
   "cell_type": "markdown",
   "metadata": {},
   "source": [
    "## Working with Strings"
   ]
  },
  {
   "cell_type": "markdown",
   "metadata": {},
   "source": [
    "### Printing Strings"
   ]
  },
  {
   "cell_type": "code",
   "execution_count": 3,
   "metadata": {},
   "outputs": [
    {
     "name": "stdout",
     "output_type": "stream",
     "text": [
      "Jone is 15 years old.\n"
     ]
    }
   ],
   "source": [
    "print(\"Jone is 15 years old.\")"
   ]
  },
  {
   "cell_type": "code",
   "execution_count": 95,
   "metadata": {},
   "outputs": [
    {
     "name": "stdout",
     "output_type": "stream",
     "text": [
      "beautiful world\n",
      "beautiful\n",
      "world\n",
      "beautiful\"world\n",
      "beautiful\\world\n"
     ]
    }
   ],
   "source": [
    "print(\"beautiful world\")\n",
    "print(\"beautiful\\nworld\")\n",
    "print(\"beautiful\\\"world\")\n",
    "print(\"beautiful\\world\")"
   ]
  },
  {
   "cell_type": "markdown",
   "metadata": {},
   "source": [
    "### Printing Variables"
   ]
  },
  {
   "cell_type": "code",
   "execution_count": 4,
   "metadata": {},
   "outputs": [
    {
     "name": "stdout",
     "output_type": "stream",
     "text": [
      "Hello world!\n"
     ]
    }
   ],
   "source": [
    "hello = \"Hello world!\"\n",
    "print(hello)"
   ]
  },
  {
   "cell_type": "markdown",
   "metadata": {},
   "source": [
    "### Printing with Concatenation Function (+)"
   ]
  },
  {
   "cell_type": "code",
   "execution_count": 4,
   "metadata": {},
   "outputs": [
    {
     "name": "stdout",
     "output_type": "stream",
     "text": [
      "Jone is 15 years old.\n"
     ]
    }
   ],
   "source": [
    "name = 'Jone'\n",
    "age = '15'\n",
    "print(name + \" is \" + age + \" years old.\")"
   ]
  },
  {
   "cell_type": "markdown",
   "metadata": {},
   "source": [
    "### Printing with Functions"
   ]
  },
  {
   "cell_type": "markdown",
   "metadata": {},
   "source": [
    "#### Module.function()\n",
    "+ For example, **str.lower()**"
   ]
  },
  {
   "cell_type": "code",
   "execution_count": 121,
   "metadata": {},
   "outputs": [
    {
     "name": "stdout",
     "output_type": "stream",
     "text": [
      "hello world!\n",
      "hello world!\n",
      "HELLO WORLD!\n",
      "False\n",
      "True\n",
      "12\n",
      "H\n",
      "!\n"
     ]
    }
   ],
   "source": [
    "hello = \"Hello world!\"\n",
    "print(hello.lower())\n",
    "print(hello.upper())\n",
    "print(hello.isupper())\n",
    "print(hello.upper().isupper())\n",
    "print(len(hello))\n",
    "print(hello[0])\n",
    "print(hello[-1])"
   ]
  },
  {
   "cell_type": "code",
   "execution_count": 123,
   "metadata": {},
   "outputs": [
    {
     "name": "stdout",
     "output_type": "stream",
     "text": [
      "hello world!\n",
      "hello world!\n"
     ]
    }
   ],
   "source": [
    "hello = \"Hello world!\"\n",
    "print(hello.lower())\n",
    "x = hello.lower()\n",
    "print(x)"
   ]
  },
  {
   "cell_type": "markdown",
   "metadata": {},
   "source": [
    "### Printing with index() Function"
   ]
  },
  {
   "cell_type": "code",
   "execution_count": 18,
   "metadata": {},
   "outputs": [
    {
     "name": "stdout",
     "output_type": "stream",
     "text": [
      "4\n",
      "6\n"
     ]
    }
   ],
   "source": [
    "hello = \"Hello world!\"\n",
    "print(hello.index(\"o\"))\n",
    "print(hello.index(\"world\"))"
   ]
  },
  {
   "cell_type": "markdown",
   "metadata": {},
   "source": [
    "### Printing with replace() Function"
   ]
  },
  {
   "cell_type": "code",
   "execution_count": 14,
   "metadata": {},
   "outputs": [
    {
     "name": "stdout",
     "output_type": "stream",
     "text": [
      "Hello Guys!\n"
     ]
    }
   ],
   "source": [
    "hello = \"Hello world!\"\n",
    "print(hello.replace(\"world\", \"Guys\"))"
   ]
  },
  {
   "cell_type": "markdown",
   "metadata": {},
   "source": [
    "## Working with Numbers"
   ]
  },
  {
   "cell_type": "markdown",
   "metadata": {},
   "source": [
    "### Arithmetic Operators: +, -, *, / "
   ]
  },
  {
   "cell_type": "code",
   "execution_count": 2,
   "metadata": {},
   "outputs": [
    {
     "name": "stdout",
     "output_type": "stream",
     "text": [
      "2\n",
      "2.003\n",
      "5\n",
      "5.003\n",
      "14\n",
      "20\n"
     ]
    }
   ],
   "source": [
    "print(2)\n",
    "print(2.003)\n",
    "print(2 + 3)\n",
    "print(2.003 + 3)\n",
    "print(2*4 + 6)\n",
    "print(2*(4 + 6))"
   ]
  },
  {
   "cell_type": "markdown",
   "metadata": {},
   "source": [
    "### Modulus Operator: %"
   ]
  },
  {
   "cell_type": "code",
   "execution_count": 11,
   "metadata": {},
   "outputs": [
    {
     "name": "stdout",
     "output_type": "stream",
     "text": [
      "2\n"
     ]
    }
   ],
   "source": [
    "print(20 % 6)"
   ]
  },
  {
   "cell_type": "markdown",
   "metadata": {},
   "source": [
    "### Numeric Variables"
   ]
  },
  {
   "cell_type": "code",
   "execution_count": 20,
   "metadata": {},
   "outputs": [],
   "source": [
    "num = 20"
   ]
  },
  {
   "cell_type": "code",
   "execution_count": 13,
   "metadata": {},
   "outputs": [
    {
     "data": {
      "text/plain": [
       "20"
      ]
     },
     "execution_count": 13,
     "metadata": {},
     "output_type": "execute_result"
    }
   ],
   "source": [
    "num"
   ]
  },
  {
   "cell_type": "code",
   "execution_count": 9,
   "metadata": {},
   "outputs": [
    {
     "name": "stdout",
     "output_type": "stream",
     "text": [
      "20\n"
     ]
    }
   ],
   "source": [
    "print(num)"
   ]
  },
  {
   "cell_type": "code",
   "execution_count": 11,
   "metadata": {},
   "outputs": [
    {
     "data": {
      "text/plain": [
       "20"
      ]
     },
     "execution_count": 11,
     "metadata": {},
     "output_type": "execute_result"
    }
   ],
   "source": [
    "num = 20\n",
    "num"
   ]
  },
  {
   "cell_type": "code",
   "execution_count": 15,
   "metadata": {},
   "outputs": [
    {
     "name": "stdout",
     "output_type": "stream",
     "text": [
      "30\n"
     ]
    }
   ],
   "source": [
    "num = 20\n",
    "num\n",
    "print(30)"
   ]
  },
  {
   "cell_type": "code",
   "execution_count": 23,
   "metadata": {},
   "outputs": [
    {
     "name": "stdout",
     "output_type": "stream",
     "text": [
      "<class 'int'>\n"
     ]
    }
   ],
   "source": [
    "print(type(num))\n",
    "# dir(num)"
   ]
  },
  {
   "cell_type": "markdown",
   "metadata": {},
   "source": [
    "### Conversion between Data Types"
   ]
  },
  {
   "cell_type": "code",
   "execution_count": 5,
   "metadata": {},
   "outputs": [
    {
     "name": "stdout",
     "output_type": "stream",
     "text": [
      "He is 20 years old.\n"
     ]
    },
    {
     "ename": "TypeError",
     "evalue": "can only concatenate str (not \"int\") to str",
     "output_type": "error",
     "traceback": [
      "\u001b[1;31m---------------------------------------------------------------------------\u001b[0m",
      "\u001b[1;31mTypeError\u001b[0m                                 Traceback (most recent call last)",
      "\u001b[1;32m<ipython-input-5-113529f99c3e>\u001b[0m in \u001b[0;36m<module>\u001b[1;34m\u001b[0m\n\u001b[0;32m      1\u001b[0m \u001b[0mnum\u001b[0m \u001b[1;33m=\u001b[0m \u001b[1;36m20\u001b[0m\u001b[1;33m\u001b[0m\u001b[1;33m\u001b[0m\u001b[0m\n\u001b[0;32m      2\u001b[0m \u001b[0mprint\u001b[0m\u001b[1;33m(\u001b[0m\u001b[1;34m\"He is \"\u001b[0m \u001b[1;33m+\u001b[0m \u001b[0mstr\u001b[0m\u001b[1;33m(\u001b[0m\u001b[0mnum\u001b[0m\u001b[1;33m)\u001b[0m \u001b[1;33m+\u001b[0m \u001b[1;34m\" years old.\"\u001b[0m\u001b[1;33m)\u001b[0m\u001b[1;33m\u001b[0m\u001b[1;33m\u001b[0m\u001b[0m\n\u001b[1;32m----> 3\u001b[1;33m \u001b[0mprint\u001b[0m\u001b[1;33m(\u001b[0m\u001b[1;34m\"He is \"\u001b[0m \u001b[1;33m+\u001b[0m \u001b[0mnum\u001b[0m \u001b[1;33m+\u001b[0m \u001b[1;34m\"years old.\"\u001b[0m\u001b[1;33m)\u001b[0m\u001b[1;33m\u001b[0m\u001b[1;33m\u001b[0m\u001b[0m\n\u001b[0m",
      "\u001b[1;31mTypeError\u001b[0m: can only concatenate str (not \"int\") to str"
     ]
    }
   ],
   "source": [
    "num = 20\n",
    "print(\"He is \" + str(num) + \" years old.\")\n",
    "print(\"He is \" + num + \"years old.\")"
   ]
  },
  {
   "cell_type": "markdown",
   "metadata": {},
   "source": [
    "## Built-in Functions"
   ]
  },
  {
   "cell_type": "markdown",
   "metadata": {},
   "source": [
    "### abs() Function"
   ]
  },
  {
   "cell_type": "code",
   "execution_count": 14,
   "metadata": {},
   "outputs": [
    {
     "name": "stdout",
     "output_type": "stream",
     "text": [
      "10\n"
     ]
    }
   ],
   "source": [
    "num = -10\n",
    "print(abs(num))"
   ]
  },
  {
   "cell_type": "markdown",
   "metadata": {},
   "source": [
    "### pow(number, power) Function"
   ]
  },
  {
   "cell_type": "code",
   "execution_count": 17,
   "metadata": {},
   "outputs": [
    {
     "name": "stdout",
     "output_type": "stream",
     "text": [
      "25\n"
     ]
    }
   ],
   "source": [
    "print(pow(5, 2))"
   ]
  },
  {
   "cell_type": "code",
   "execution_count": 16,
   "metadata": {},
   "outputs": [
    {
     "name": "stdout",
     "output_type": "stream",
     "text": [
      "Help on built-in function pow in module builtins:\n",
      "\n",
      "pow(x, y, z=None, /)\n",
      "    Equivalent to x**y (with two arguments) or x**y % z (with three arguments)\n",
      "    \n",
      "    Some types, such as ints, are able to use a more efficient algorithm when\n",
      "    invoked using the three argument form.\n",
      "\n"
     ]
    }
   ],
   "source": [
    "help(pow)"
   ]
  },
  {
   "cell_type": "code",
   "execution_count": 18,
   "metadata": {},
   "outputs": [
    {
     "data": {
      "text/plain": [
       "1"
      ]
     },
     "execution_count": 18,
     "metadata": {},
     "output_type": "execute_result"
    }
   ],
   "source": [
    "pow(5, 2, 3)"
   ]
  },
  {
   "cell_type": "markdown",
   "metadata": {},
   "source": [
    "### max() & min() Functions"
   ]
  },
  {
   "cell_type": "code",
   "execution_count": 19,
   "metadata": {},
   "outputs": [
    {
     "name": "stdout",
     "output_type": "stream",
     "text": [
      "20\n",
      "3\n"
     ]
    }
   ],
   "source": [
    "print(max(4, 20, 3))\n",
    "print(min(4, 20, 3))"
   ]
  },
  {
   "cell_type": "markdown",
   "metadata": {},
   "source": [
    "### round() Function"
   ]
  },
  {
   "cell_type": "code",
   "execution_count": 20,
   "metadata": {},
   "outputs": [
    {
     "name": "stdout",
     "output_type": "stream",
     "text": [
      "3\n",
      "4\n"
     ]
    }
   ],
   "source": [
    "print(round(3.4))\n",
    "print(round(3.8))"
   ]
  },
  {
   "cell_type": "markdown",
   "metadata": {},
   "source": [
    "## Importing Modules (* means everything)"
   ]
  },
  {
   "cell_type": "code",
   "execution_count": 26,
   "metadata": {},
   "outputs": [
    {
     "name": "stdout",
     "output_type": "stream",
     "text": [
      "Help on built-in function floor in module math:\n",
      "\n",
      "floor(x, /)\n",
      "    Return the floor of x as an Integral.\n",
      "    \n",
      "    This is the largest integer <= x.\n",
      "\n"
     ]
    }
   ],
   "source": [
    "import math\n",
    "help(math.floor)"
   ]
  },
  {
   "cell_type": "code",
   "execution_count": 28,
   "metadata": {},
   "outputs": [
    {
     "name": "stdout",
     "output_type": "stream",
     "text": [
      "3\n",
      "4\n",
      "3.0\n"
     ]
    }
   ],
   "source": [
    "from math import *\n",
    "print(floor(3.8))\n",
    "print(ceil(3.2))\n",
    "print(sqrt(9))"
   ]
  },
  {
   "cell_type": "code",
   "execution_count": 22,
   "metadata": {},
   "outputs": [
    {
     "name": "stdout",
     "output_type": "stream",
     "text": [
      "Help on built-in function floor in module math:\n",
      "\n",
      "floor(x, /)\n",
      "    Return the floor of x as an Integral.\n",
      "    \n",
      "    This is the largest integer <= x.\n",
      "\n"
     ]
    }
   ],
   "source": [
    "help(floor)"
   ]
  },
  {
   "cell_type": "code",
   "execution_count": 24,
   "metadata": {},
   "outputs": [
    {
     "data": {
      "text/plain": [
       "['__call__',\n",
       " '__class__',\n",
       " '__delattr__',\n",
       " '__dir__',\n",
       " '__doc__',\n",
       " '__eq__',\n",
       " '__format__',\n",
       " '__ge__',\n",
       " '__getattribute__',\n",
       " '__gt__',\n",
       " '__hash__',\n",
       " '__init__',\n",
       " '__init_subclass__',\n",
       " '__le__',\n",
       " '__lt__',\n",
       " '__module__',\n",
       " '__name__',\n",
       " '__ne__',\n",
       " '__new__',\n",
       " '__qualname__',\n",
       " '__reduce__',\n",
       " '__reduce_ex__',\n",
       " '__repr__',\n",
       " '__self__',\n",
       " '__setattr__',\n",
       " '__sizeof__',\n",
       " '__str__',\n",
       " '__subclasshook__',\n",
       " '__text_signature__']"
      ]
     },
     "execution_count": 24,
     "metadata": {},
     "output_type": "execute_result"
    }
   ],
   "source": [
    "dir(floor)"
   ]
  },
  {
   "cell_type": "markdown",
   "metadata": {},
   "source": [
    "## Getting Input from Users"
   ]
  },
  {
   "cell_type": "markdown",
   "metadata": {},
   "source": [
    "### User input() Function"
   ]
  },
  {
   "cell_type": "code",
   "execution_count": 29,
   "metadata": {},
   "outputs": [
    {
     "name": "stdout",
     "output_type": "stream",
     "text": [
      "Enter your name: John\n",
      "Hello John!\n"
     ]
    }
   ],
   "source": [
    "name = input(\"Enter your name: \")\n",
    "print(\"Hello \" + name + \"!\")"
   ]
  },
  {
   "cell_type": "code",
   "execution_count": 32,
   "metadata": {
    "scrolled": true
   },
   "outputs": [
    {
     "name": "stdout",
     "output_type": "stream",
     "text": [
      "Enter your age: 24\n",
      "I am at the age of 24!\n"
     ]
    }
   ],
   "source": [
    "age = input(\"Enter your age: \")\n",
    "print(\"I am at the age of \" + age + \"!\")"
   ]
  },
  {
   "cell_type": "code",
   "execution_count": 37,
   "metadata": {},
   "outputs": [
    {
     "name": "stdout",
     "output_type": "stream",
     "text": [
      "Enter your name: Chingfu\n",
      "Enter your age: 22\n",
      "Hello Chingfu! You are 22.\n"
     ]
    }
   ],
   "source": [
    "name = input(\"Enter your name: \")\n",
    "age = input(\"Enter your age: \")\n",
    "print(\"Hello \" + name + \"! You are \" + age + \".\")"
   ]
  },
  {
   "cell_type": "markdown",
   "metadata": {},
   "source": [
    "### Exercise"
   ]
  },
  {
   "cell_type": "code",
   "execution_count": null,
   "metadata": {},
   "outputs": [],
   "source": [
    "# Use input() function to add two numbers together and get their sum \n",
    "num1 = input()\n",
    "num2 = input()"
   ]
  },
  {
   "cell_type": "markdown",
   "metadata": {},
   "source": [
    "## Building a Basic Calculator"
   ]
  },
  {
   "cell_type": "code",
   "execution_count": 2,
   "metadata": {},
   "outputs": [
    {
     "name": "stdout",
     "output_type": "stream",
     "text": [
      "Enter a number: 12\n",
      "Enter another number: 15\n",
      "1215\n",
      "27\n",
      "27.0\n"
     ]
    }
   ],
   "source": [
    "num1 = input(\"Enter a number: \")\n",
    "num2 = input(\"Enter another number: \")\n",
    "add1 = num1 + num2 \n",
    "print(add1)\n",
    "add2 = int(num1) + int(num2) \n",
    "print(add2)\n",
    "add3 = float(num1) + float(num2) \n",
    "print(add3)"
   ]
  },
  {
   "cell_type": "markdown",
   "metadata": {},
   "source": [
    "## Mad Libs Game"
   ]
  },
  {
   "cell_type": "code",
   "execution_count": 24,
   "metadata": {},
   "outputs": [
    {
     "name": "stdout",
     "output_type": "stream",
     "text": [
      "Roses are red\n",
      "Violets are blue\n",
      "I love you\n",
      "Enter a color: a\n",
      "Enter a Plural Noun: b\n",
      "Enter a celebrity: c\n",
      "Roses are a\n",
      "b are blue\n",
      "I love c\n"
     ]
    }
   ],
   "source": [
    "print(\"Roses are red\")\n",
    "print(\"Violets are blue\")\n",
    "print(\"I love you\")\n",
    "\n",
    "# Users Enter for the {}\n",
    "color = input(\"Enter a color: \")\n",
    "plural_noun = input(\"Enter a Plural Noun: \")\n",
    "celebrity = input(\"Enter a celebrity: \")\n",
    "\n",
    "print(\"Roses are \" + color)\n",
    "print(plural_noun + \" are blue\")\n",
    "print(\"I love \" + celebrity)"
   ]
  },
  {
   "cell_type": "markdown",
   "metadata": {},
   "source": [
    "## Lists in [ ]"
   ]
  },
  {
   "cell_type": "code",
   "execution_count": 4,
   "metadata": {},
   "outputs": [
    {
     "name": "stdout",
     "output_type": "stream",
     "text": [
      "['A', 5, False]\n"
     ]
    }
   ],
   "source": [
    "friends = [\"A\", \"B\", \"C\"]\n",
    "friends = [\"A\", 5, False]\n",
    "print(friends)"
   ]
  },
  {
   "cell_type": "code",
   "execution_count": 5,
   "metadata": {},
   "outputs": [
    {
     "data": {
      "text/plain": [
       "['__add__',\n",
       " '__class__',\n",
       " '__contains__',\n",
       " '__delattr__',\n",
       " '__delitem__',\n",
       " '__dir__',\n",
       " '__doc__',\n",
       " '__eq__',\n",
       " '__format__',\n",
       " '__ge__',\n",
       " '__getattribute__',\n",
       " '__getitem__',\n",
       " '__gt__',\n",
       " '__hash__',\n",
       " '__iadd__',\n",
       " '__imul__',\n",
       " '__init__',\n",
       " '__init_subclass__',\n",
       " '__iter__',\n",
       " '__le__',\n",
       " '__len__',\n",
       " '__lt__',\n",
       " '__mul__',\n",
       " '__ne__',\n",
       " '__new__',\n",
       " '__reduce__',\n",
       " '__reduce_ex__',\n",
       " '__repr__',\n",
       " '__reversed__',\n",
       " '__rmul__',\n",
       " '__setattr__',\n",
       " '__setitem__',\n",
       " '__sizeof__',\n",
       " '__str__',\n",
       " '__subclasshook__',\n",
       " 'append',\n",
       " 'clear',\n",
       " 'copy',\n",
       " 'count',\n",
       " 'extend',\n",
       " 'index',\n",
       " 'insert',\n",
       " 'pop',\n",
       " 'remove',\n",
       " 'reverse',\n",
       " 'sort']"
      ]
     },
     "execution_count": 5,
     "metadata": {},
     "output_type": "execute_result"
    }
   ],
   "source": [
    "dir(friends)"
   ]
  },
  {
   "cell_type": "markdown",
   "metadata": {},
   "source": [
    "# Pause"
   ]
  },
  {
   "cell_type": "markdown",
   "metadata": {},
   "source": [
    "### List Index Starts at 0"
   ]
  },
  {
   "cell_type": "code",
   "execution_count": 15,
   "metadata": {},
   "outputs": [
    {
     "name": "stdout",
     "output_type": "stream",
     "text": [
      "A\n",
      "C\n",
      "C\n",
      "['B', 'C']\n",
      "['A', 'B']\n"
     ]
    }
   ],
   "source": [
    "friends = [\"A\", \"B\", \"C\"]\n",
    "print(friends[0])\n",
    "print(friends[2])\n",
    "print(friends[-1])"
   ]
  },
  {
   "cell_type": "markdown",
   "metadata": {},
   "source": [
    "### A Range of the List"
   ]
  },
  {
   "cell_type": "code",
   "execution_count": 16,
   "metadata": {},
   "outputs": [
    {
     "name": "stdout",
     "output_type": "stream",
     "text": [
      "['B', 'C', 'D', 'E']\n",
      "['A', 'B']\n",
      "['B', 'C']\n"
     ]
    }
   ],
   "source": [
    "friends = [\"A\", \"B\", \"C\", \"D\", \"E\"]\n",
    "print(friends[1:])\n",
    "print(friends[0:2]) # slicing from 0 through 2 but excluding 2\n",
    "print(friends[1:3])"
   ]
  },
  {
   "cell_type": "markdown",
   "metadata": {},
   "source": [
    "### Replacing a Value of an Item in the List"
   ]
  },
  {
   "cell_type": "code",
   "execution_count": 17,
   "metadata": {},
   "outputs": [
    {
     "name": "stdout",
     "output_type": "stream",
     "text": [
      "['A', 'B', 'F', 'D', 'E']\n",
      "B\n",
      "F\n"
     ]
    }
   ],
   "source": [
    "friends = [\"A\", \"B\", \"C\", \"D\", \"E\"]\n",
    "friends[2] = \"F\"\n",
    "print(friends)\n",
    "print(friends[1])\n",
    "print(friends[2])"
   ]
  },
  {
   "cell_type": "code",
   "execution_count": 19,
   "metadata": {},
   "outputs": [],
   "source": [
    "# dir(list)"
   ]
  },
  {
   "cell_type": "markdown",
   "metadata": {},
   "source": [
    "## List Functions"
   ]
  },
  {
   "cell_type": "markdown",
   "metadata": {},
   "source": [
    "* Modifying a List \n",
    "* Getting Information about a List \n",
    "* Extending a List"
   ]
  },
  {
   "cell_type": "code",
   "execution_count": 29,
   "metadata": {},
   "outputs": [
    {
     "name": "stdout",
     "output_type": "stream",
     "text": [
      "['A', 'B', 'C', 'D', 'E']\n",
      "['A', 'B', 'C', 'D', 'E', 3, 5, 6, 10, 34, 25]\n"
     ]
    }
   ],
   "source": [
    "# .extend()\n",
    "num = [3, 5, 6, 10, 34, 25]\n",
    "friends = [\"A\", \"B\", \"C\", \"D\", \"E\"]\n",
    "print(friends)\n",
    "friends.extend(num)\n",
    "print(friends)"
   ]
  },
  {
   "cell_type": "code",
   "execution_count": 32,
   "metadata": {},
   "outputs": [
    {
     "name": "stdout",
     "output_type": "stream",
     "text": [
      "['A', 'B', 'C', 'D', 'E', [3, 5, 6, 10, 34, 25]]\n",
      "['A', 'B', 'C', 'D', 'E', [3, 5, 6, 10, 34, 25], 'K']\n"
     ]
    }
   ],
   "source": [
    "# .append() appends individual item to the list\n",
    "num = [3, 5, 6, 10, 34, 25]\n",
    "friends = [\"A\", \"B\", \"C\", \"D\", \"E\"]\n",
    "friends.append(num)\n",
    "print(friends)\n",
    "friends.append(\"K\")\n",
    "print(friends)"
   ]
  },
  {
   "cell_type": "code",
   "execution_count": 87,
   "metadata": {
    "scrolled": true
   },
   "outputs": [],
   "source": [
    "# dir(num)"
   ]
  },
  {
   "cell_type": "code",
   "execution_count": 24,
   "metadata": {},
   "outputs": [
    {
     "name": "stdout",
     "output_type": "stream",
     "text": [
      "['A', 'B', 'C', 'M', 'D', 'E']\n"
     ]
    }
   ],
   "source": [
    "# .insert()\n",
    "num = [3, 5, 6, 10, 34, 25]\n",
    "friends = [\"A\", \"B\", \"C\", \"D\", \"E\"]\n",
    "friends.insert(3, \"M\")\n",
    "print(friends)"
   ]
  },
  {
   "cell_type": "code",
   "execution_count": 35,
   "metadata": {},
   "outputs": [
    {
     "name": "stdout",
     "output_type": "stream",
     "text": [
      "Help on built-in function insert:\n",
      "\n",
      "insert(index, object, /) method of builtins.list instance\n",
      "    Insert object before index.\n",
      "\n"
     ]
    }
   ],
   "source": [
    "help(num.insert)"
   ]
  },
  {
   "cell_type": "code",
   "execution_count": 25,
   "metadata": {
    "scrolled": true
   },
   "outputs": [
    {
     "name": "stdout",
     "output_type": "stream",
     "text": [
      "['A', 'B', 'D', 'E', [2]]\n",
      "['A', 'B', 'D', 'E']\n"
     ]
    }
   ],
   "source": [
    "# .remove() items from the list\n",
    "num = [3, 5, 6, 10, 34, 25]\n",
    "friends = [\"A\", \"B\", \"C\", \"D\", \"E\", [2]]\n",
    "friends.remove(\"C\")\n",
    "print(friends)\n",
    "friends.remove([2])    \n",
    "print(friends)"
   ]
  },
  {
   "cell_type": "code",
   "execution_count": 26,
   "metadata": {},
   "outputs": [
    {
     "name": "stdout",
     "output_type": "stream",
     "text": [
      "['A', 'B', 'C', 'E', [2]]\n"
     ]
    }
   ],
   "source": [
    "friends = [\"A\", \"B\", \"C\", \"D\", \"E\", [2]]  \n",
    "friends.remove(friends[3])\n",
    "print(friends)"
   ]
  },
  {
   "cell_type": "code",
   "execution_count": 23,
   "metadata": {},
   "outputs": [
    {
     "ename": "ValueError",
     "evalue": "list.remove(x): x not in list",
     "output_type": "error",
     "traceback": [
      "\u001b[1;31m---------------------------------------------------------------------------\u001b[0m",
      "\u001b[1;31mValueError\u001b[0m                                Traceback (most recent call last)",
      "\u001b[1;32m<ipython-input-23-45aa3de4b97f>\u001b[0m in \u001b[0;36m<module>\u001b[1;34m\u001b[0m\n\u001b[0;32m      1\u001b[0m \u001b[0mfriends\u001b[0m \u001b[1;33m=\u001b[0m \u001b[1;33m[\u001b[0m\u001b[1;34m\"A\"\u001b[0m\u001b[1;33m,\u001b[0m \u001b[1;34m\"B\"\u001b[0m\u001b[1;33m,\u001b[0m \u001b[1;34m\"C\"\u001b[0m\u001b[1;33m,\u001b[0m \u001b[1;34m\"D\"\u001b[0m\u001b[1;33m,\u001b[0m \u001b[1;34m\"E\"\u001b[0m\u001b[1;33m]\u001b[0m \u001b[1;31m# , [2]\u001b[0m\u001b[1;33m\u001b[0m\u001b[1;33m\u001b[0m\u001b[0m\n\u001b[1;32m----> 2\u001b[1;33m \u001b[0mfriends\u001b[0m\u001b[1;33m.\u001b[0m\u001b[0mremove\u001b[0m\u001b[1;33m(\u001b[0m\u001b[1;33m[\u001b[0m\u001b[1;36m2\u001b[0m\u001b[1;33m]\u001b[0m\u001b[1;33m)\u001b[0m  \u001b[1;31m# the item to be removed is not in the list\u001b[0m\u001b[1;33m\u001b[0m\u001b[1;33m\u001b[0m\u001b[0m\n\u001b[0m\u001b[0;32m      3\u001b[0m \u001b[0mprint\u001b[0m\u001b[1;33m(\u001b[0m\u001b[0mfriends\u001b[0m\u001b[1;33m)\u001b[0m\u001b[1;33m\u001b[0m\u001b[1;33m\u001b[0m\u001b[0m\n",
      "\u001b[1;31mValueError\u001b[0m: list.remove(x): x not in list"
     ]
    }
   ],
   "source": [
    "friends = [\"A\", \"B\", \"C\", \"D\", \"E\"] # , [2]\n",
    "friends.remove([2])  # the item to be removed is not in the list\n",
    "print(friends)"
   ]
  },
  {
   "cell_type": "code",
   "execution_count": 28,
   "metadata": {},
   "outputs": [
    {
     "ename": "ValueError",
     "evalue": "list.remove(x): x not in list",
     "output_type": "error",
     "traceback": [
      "\u001b[1;31m---------------------------------------------------------------------------\u001b[0m",
      "\u001b[1;31mValueError\u001b[0m                                Traceback (most recent call last)",
      "\u001b[1;32m<ipython-input-28-ee7c891df681>\u001b[0m in \u001b[0;36m<module>\u001b[1;34m\u001b[0m\n\u001b[0;32m      1\u001b[0m \u001b[0mfriends\u001b[0m \u001b[1;33m=\u001b[0m \u001b[1;33m[\u001b[0m\u001b[1;34m\"A\"\u001b[0m\u001b[1;33m,\u001b[0m \u001b[1;34m\"B\"\u001b[0m\u001b[1;33m,\u001b[0m \u001b[1;34m\"C\"\u001b[0m\u001b[1;33m,\u001b[0m \u001b[1;34m\"D\"\u001b[0m\u001b[1;33m,\u001b[0m \u001b[1;34m\"E\"\u001b[0m\u001b[1;33m]\u001b[0m\u001b[1;33m\u001b[0m\u001b[1;33m\u001b[0m\u001b[0m\n\u001b[1;32m----> 2\u001b[1;33m \u001b[0mfriends\u001b[0m\u001b[1;33m.\u001b[0m\u001b[0mremove\u001b[0m\u001b[1;33m(\u001b[0m\u001b[1;36m2\u001b[0m\u001b[1;33m)\u001b[0m    \u001b[1;31m# the item to be removed is not in the list\u001b[0m\u001b[1;33m\u001b[0m\u001b[1;33m\u001b[0m\u001b[0m\n\u001b[0m\u001b[0;32m      3\u001b[0m \u001b[0mprint\u001b[0m\u001b[1;33m(\u001b[0m\u001b[0mfriends\u001b[0m\u001b[1;33m)\u001b[0m\u001b[1;33m\u001b[0m\u001b[1;33m\u001b[0m\u001b[0m\n",
      "\u001b[1;31mValueError\u001b[0m: list.remove(x): x not in list"
     ]
    }
   ],
   "source": [
    "friends = [\"A\", \"B\", \"C\", \"D\", \"E\"] \n",
    "friends.remove(2)    # the item to be removed is not in the list\n",
    "print(friends)"
   ]
  },
  {
   "cell_type": "code",
   "execution_count": 27,
   "metadata": {},
   "outputs": [
    {
     "name": "stdout",
     "output_type": "stream",
     "text": [
      "['A', 'B', 'C', 'D', 'E']\n"
     ]
    }
   ],
   "source": [
    "friends = [\"A\", \"B\", \"C\", \"D\", \"E\", 2] \n",
    "friends.remove(2)    # the item to be removed is not in the list\n",
    "print(friends)"
   ]
  },
  {
   "cell_type": "code",
   "execution_count": 53,
   "metadata": {},
   "outputs": [
    {
     "name": "stdout",
     "output_type": "stream",
     "text": [
      "[]\n"
     ]
    }
   ],
   "source": [
    "# .clear() clears everything in the list\n",
    "num = [3, 5, 6, 10, 34, 25]\n",
    "friends = [\"A\", \"B\", \"C\", \"D\", \"E\"]\n",
    "friends.clear()\n",
    "print(friends)    # it returns [], an emply lsit"
   ]
  },
  {
   "cell_type": "code",
   "execution_count": 54,
   "metadata": {},
   "outputs": [
    {
     "name": "stdout",
     "output_type": "stream",
     "text": [
      "['A', 'B', 'C', 'D']\n"
     ]
    }
   ],
   "source": [
    "# .pop() gets rid of the last item from the list (pop an item off the list)\n",
    "num = [3, 5, 6, 10, 34, 25]\n",
    "friends = [\"A\", \"B\", \"C\", \"D\", \"E\"]\n",
    "friends.pop()\n",
    "print(friends)"
   ]
  },
  {
   "cell_type": "code",
   "execution_count": 55,
   "metadata": {},
   "outputs": [
    {
     "name": "stdout",
     "output_type": "stream",
     "text": [
      "3\n"
     ]
    }
   ],
   "source": [
    "# To check the index of the designated value in a list\n",
    "friends = [\"A\", \"B\", \"C\", \"D\", \"E\"]\n",
    "print(friends.index(\"D\"))"
   ]
  },
  {
   "cell_type": "code",
   "execution_count": 56,
   "metadata": {},
   "outputs": [
    {
     "name": "stdout",
     "output_type": "stream",
     "text": [
      "2\n"
     ]
    }
   ],
   "source": [
    "# To count certain items in a list\n",
    "friends = [\"A\", \"B\", \"C\", \"D\", \"C\", \"D\", \"E\"]\n",
    "print(friends.count(\"D\"))"
   ]
  },
  {
   "cell_type": "code",
   "execution_count": 58,
   "metadata": {
    "scrolled": true
   },
   "outputs": [
    {
     "name": "stdout",
     "output_type": "stream",
     "text": [
      "['A', 'B', 'C', 'C', 'D', 'D', 'E']\n"
     ]
    }
   ],
   "source": [
    "# To sort a list\n",
    "friends = [\"A\", \"B\", \"C\", \"D\", \"C\", \"D\", \"E\"]\n",
    "friends.sort()\n",
    "print(friends)"
   ]
  },
  {
   "cell_type": "markdown",
   "metadata": {},
   "source": [
    "## num functions"
   ]
  },
  {
   "cell_type": "code",
   "execution_count": 59,
   "metadata": {},
   "outputs": [
    {
     "name": "stdout",
     "output_type": "stream",
     "text": [
      "[3, 5, 6, 10, 25, 34]\n"
     ]
    }
   ],
   "source": [
    "num = [3, 5, 6, 10, 34, 25]\n",
    "num.sort()\n",
    "print(num)"
   ]
  },
  {
   "cell_type": "code",
   "execution_count": 60,
   "metadata": {},
   "outputs": [
    {
     "name": "stdout",
     "output_type": "stream",
     "text": [
      "[25, 34, 10, 6, 5, 3]\n"
     ]
    }
   ],
   "source": [
    "# To reverse the order of a list\n",
    "num = [3, 5, 6, 10, 34, 25]\n",
    "num.reverse()\n",
    "print(num)"
   ]
  },
  {
   "cell_type": "code",
   "execution_count": 61,
   "metadata": {},
   "outputs": [
    {
     "name": "stdout",
     "output_type": "stream",
     "text": [
      "[3, 5, 6, 10, 34, 25]\n"
     ]
    }
   ],
   "source": [
    "# To make a copy of a list\n",
    "num = [3, 5, 6, 10, 34, 25]\n",
    "num2 = num.copy()\n",
    "print(num2)"
   ]
  },
  {
   "cell_type": "markdown",
   "metadata": {},
   "source": [
    "## Tuples in ( )"
   ]
  },
  {
   "cell_type": "markdown",
   "metadata": {},
   "source": [
    "Tuple is a container which can store different values\n",
    "A tuple is different from a list in several aspects:\n",
    "  1. We create a tuple by using parentheses (), but we use square brackets [] to create a list\n",
    "  2. Tuple is immutable (cannot be modified or changed) but list is mutable"
   ]
  },
  {
   "cell_type": "code",
   "execution_count": 62,
   "metadata": {},
   "outputs": [
    {
     "name": "stdout",
     "output_type": "stream",
     "text": [
      "3\n"
     ]
    },
    {
     "ename": "TypeError",
     "evalue": "'tuple' object does not support item assignment",
     "output_type": "error",
     "traceback": [
      "\u001b[1;31m---------------------------------------------------------------------------\u001b[0m",
      "\u001b[1;31mTypeError\u001b[0m                                 Traceback (most recent call last)",
      "\u001b[1;32m<ipython-input-62-d33154704798>\u001b[0m in \u001b[0;36m<module>\u001b[1;34m\u001b[0m\n\u001b[0;32m      1\u001b[0m \u001b[0mcoordinates\u001b[0m \u001b[1;33m=\u001b[0m \u001b[1;33m(\u001b[0m\u001b[1;36m3\u001b[0m\u001b[1;33m,\u001b[0m \u001b[1;36m6\u001b[0m\u001b[1;33m)\u001b[0m\u001b[1;33m\u001b[0m\u001b[1;33m\u001b[0m\u001b[0m\n\u001b[0;32m      2\u001b[0m \u001b[0mprint\u001b[0m\u001b[1;33m(\u001b[0m\u001b[0mcoordinates\u001b[0m\u001b[1;33m[\u001b[0m\u001b[1;36m0\u001b[0m\u001b[1;33m]\u001b[0m\u001b[1;33m)\u001b[0m\u001b[1;33m\u001b[0m\u001b[1;33m\u001b[0m\u001b[0m\n\u001b[1;32m----> 3\u001b[1;33m \u001b[0mcoordinates\u001b[0m\u001b[1;33m[\u001b[0m\u001b[1;36m1\u001b[0m\u001b[1;33m]\u001b[0m \u001b[1;33m=\u001b[0m \u001b[1;36m10\u001b[0m\u001b[1;33m\u001b[0m\u001b[1;33m\u001b[0m\u001b[0m\n\u001b[0m",
      "\u001b[1;31mTypeError\u001b[0m: 'tuple' object does not support item assignment"
     ]
    }
   ],
   "source": [
    "coordinates = (3, 6)\n",
    "print(coordinates[0])\n",
    "coordinates[1] = 10    # tuple is immutable"
   ]
  },
  {
   "cell_type": "code",
   "execution_count": 65,
   "metadata": {},
   "outputs": [
    {
     "name": "stdout",
     "output_type": "stream",
     "text": [
      "[(3, 6), (1, 6), (8, 2), (4, 5)]\n"
     ]
    }
   ],
   "source": [
    "# Tuples in a list\n",
    "coordinates = [(3, 6), (1, 6), (8, 2), (4, 5)]\n",
    "print(coordinates)"
   ]
  },
  {
   "cell_type": "markdown",
   "metadata": {},
   "source": [
    "## Functions"
   ]
  },
  {
   "cell_type": "markdown",
   "metadata": {},
   "source": [
    "A function is a collection of codes to perform a specific task.\n",
    "We use def to define a function while using indentation to be inside the function "
   ]
  },
  {
   "cell_type": "code",
   "execution_count": 66,
   "metadata": {},
   "outputs": [
    {
     "name": "stdout",
     "output_type": "stream",
     "text": [
      "Hello User\n"
     ]
    }
   ],
   "source": [
    "# define a function called hi() without any parameters\n",
    "def hi():\n",
    "    print(\"Hello User\")\n",
    "hi()    # calling the hi() function, o.w., it won’t print "
   ]
  },
  {
   "cell_type": "code",
   "execution_count": 67,
   "metadata": {},
   "outputs": [
    {
     "name": "stdout",
     "output_type": "stream",
     "text": [
      "Hello John\n",
      "Hello Steve\n"
     ]
    }
   ],
   "source": [
    "# with parameters in a function \n",
    "def hi(name):\n",
    "    print(\"Hello \" + name)\n",
    "hi(\"John\")\n",
    "hi(\"Steve\")"
   ]
  },
  {
   "cell_type": "code",
   "execution_count": 68,
   "metadata": {},
   "outputs": [
    {
     "name": "stdout",
     "output_type": "stream",
     "text": [
      "Hello John. You are 6.\n",
      "Hello Steve. You are 35.\n"
     ]
    }
   ],
   "source": [
    "def hi(name, age):\n",
    "    print(\"Hello \" + name + \". You are \" + age)\n",
    "hi(\"John\", \"6.\")\n",
    "hi(\"Steve\", \"35.\")"
   ]
  },
  {
   "cell_type": "code",
   "execution_count": 30,
   "metadata": {},
   "outputs": [
    {
     "name": "stdout",
     "output_type": "stream",
     "text": [
      "None\n"
     ]
    }
   ],
   "source": [
    "# \"return\" can return an information from a function\n",
    "# Nothing printed in this case\n",
    "def cube(num):\n",
    "    num*num*num    # it needs a return keyword to print\n",
    "cube(3)            # nothing shown\n",
    "print(cube(3))     # \"None\" is printed"
   ]
  },
  {
   "cell_type": "code",
   "execution_count": 32,
   "metadata": {},
   "outputs": [
    {
     "data": {
      "text/plain": [
       "27"
      ]
     },
     "execution_count": 32,
     "metadata": {},
     "output_type": "execute_result"
    }
   ],
   "source": [
    "# It works with return()\n",
    "def cube(num):\n",
    "    return num*num*num\n",
    "cube(3)             # 27"
   ]
  },
  {
   "cell_type": "code",
   "execution_count": 71,
   "metadata": {},
   "outputs": [
    {
     "name": "stdout",
     "output_type": "stream",
     "text": [
      "27\n"
     ]
    }
   ],
   "source": [
    "# It works with return() \n",
    "def cube(num):\n",
    "    return num*num*num\n",
    "print(cube(3))      # 27"
   ]
  },
  {
   "cell_type": "code",
   "execution_count": 72,
   "metadata": {},
   "outputs": [
    {
     "name": "stdout",
     "output_type": "stream",
     "text": [
      "27\n"
     ]
    }
   ],
   "source": [
    "# It works while using a variable output\n",
    "def cube(num):\n",
    "    return num*num*num\n",
    "output = cube(3)        # using a variable\n",
    "print(output)           # 27"
   ]
  },
  {
   "cell_type": "code",
   "execution_count": 73,
   "metadata": {},
   "outputs": [
    {
     "name": "stdout",
     "output_type": "stream",
     "text": [
      "27\n"
     ]
    }
   ],
   "source": [
    "# Codes inside a function but after the return statement should be ignored since return keyword tells Python to break out of the function so that it’s done the function and no more code will be executed. \n",
    "def cube(num):\n",
    "    return num*num*num\n",
    "    print(\"nothing\")    # code inside a function but after the return statement should be ignored\n",
    "output = cube(3)        # using a variable\n",
    "print(output)           # 27 "
   ]
  },
  {
   "cell_type": "markdown",
   "metadata": {},
   "source": [
    "## if Statements "
   ]
  },
  {
   "cell_type": "code",
   "execution_count": 74,
   "metadata": {},
   "outputs": [
    {
     "name": "stdout",
     "output_type": "stream",
     "text": [
      "You're a male.\n"
     ]
    }
   ],
   "source": [
    "is_male = True\n",
    "if is_male:     # is_male is a condition, if it's True, then Python excutes the code inside the if statement\n",
    "    print(\"You're a male.\")    # Since the condition is True, it prints the string."
   ]
  },
  {
   "cell_type": "code",
   "execution_count": 75,
   "metadata": {},
   "outputs": [
    {
     "name": "stdout",
     "output_type": "stream",
     "text": [
      "You're a male.\n"
     ]
    }
   ],
   "source": [
    "is_male = True\n",
    "if is_male: \n",
    "    print(\"You're a male.\")\n",
    "else:\n",
    "    print(\"You're not a male.\")"
   ]
  },
  {
   "cell_type": "code",
   "execution_count": 76,
   "metadata": {},
   "outputs": [
    {
     "name": "stdout",
     "output_type": "stream",
     "text": [
      "You're a male or tall or both.\n"
     ]
    }
   ],
   "source": [
    "is_male = True\n",
    "is_tall = True\n",
    "if is_male or is_tall: \n",
    "    print(\"You're a male or tall or both.\")\t\t# You're a male or tall or both.\n",
    "else:\n",
    "    print(\"You're neither male nor tall.\")"
   ]
  },
  {
   "cell_type": "code",
   "execution_count": 77,
   "metadata": {},
   "outputs": [
    {
     "name": "stdout",
     "output_type": "stream",
     "text": [
      "You're neither male nor tall.\n"
     ]
    }
   ],
   "source": [
    "is_male = False\n",
    "is_tall = False\n",
    "if is_male or is_tall: \n",
    "    print(\"You're a male or tall or both.\")\n",
    "else:\n",
    "    print(\"You're neither male nor tall.\")"
   ]
  },
  {
   "cell_type": "code",
   "execution_count": 78,
   "metadata": {},
   "outputs": [
    {
     "name": "stdout",
     "output_type": "stream",
     "text": [
      "You're either not male or not tall or both.\n"
     ]
    }
   ],
   "source": [
    "is_male = True\n",
    "is_tall = False\n",
    "if is_male and is_tall: \n",
    "    print(\"You're a tall male.\")\n",
    "else:\n",
    "    print(\"You're either not male or not tall or both.\")"
   ]
  },
  {
   "cell_type": "code",
   "execution_count": 79,
   "metadata": {},
   "outputs": [
    {
     "name": "stdout",
     "output_type": "stream",
     "text": [
      "You're a tall male.\n"
     ]
    }
   ],
   "source": [
    "is_male = True\n",
    "is_tall = True\n",
    "if is_male and is_tall: \n",
    "    print(\"You're a tall male.\")\n",
    "else:\n",
    "    print(\"You're either not male or not tall or both.\")"
   ]
  },
  {
   "cell_type": "markdown",
   "metadata": {},
   "source": [
    "### elif: else if Statement"
   ]
  },
  {
   "cell_type": "code",
   "execution_count": null,
   "metadata": {},
   "outputs": [],
   "source": [
    "# We can have many elif statements between if statement and else statement. It looks like\n",
    "# if condition 1:\n",
    "#         do action 1\n",
    "# elif condition 2:\n",
    "#         do action 2\n",
    "# elif condition 3:\n",
    "#         do action 3\n",
    "# elif condition 4:\n",
    "#         do action 4\n",
    "# else condition 5:\n",
    "#         do action 5"
   ]
  },
  {
   "cell_type": "code",
   "execution_count": 33,
   "metadata": {},
   "outputs": [
    {
     "name": "stdout",
     "output_type": "stream",
     "text": [
      "You're a tall male.\n"
     ]
    }
   ],
   "source": [
    "is_male = True\n",
    "is_tall = True\n",
    "if is_male and is_tall: \n",
    "    print(\"You're a tall male.\")    # You're a tall male.\n",
    "elif is_male and not(is_tall): \n",
    "    print(\"You're a short male.\")\n",
    "elif not(is_male) and is_tall: \n",
    "    print(\"You're not a male but are tall.\")\n",
    "else:\n",
    "    print(\"You're either not male or not tall or both.\")"
   ]
  },
  {
   "cell_type": "code",
   "execution_count": null,
   "metadata": {},
   "outputs": [],
   "source": [
    "is_male = True\n",
    "is_tall = False\n",
    "if is_male and is_tall: \n",
    "    print(\"You're a tall male.\")\n",
    "elif is_male and not(is_tall): \n",
    "    print(\"You're a short male.\")    # You're a short male.\n",
    "elif not(is_male) and is_tall: \n",
    "    print(\"You're not a male but are tall.\")\n",
    "else:\n",
    "    print(\"You're either not male or not tall or both.\")"
   ]
  },
  {
   "cell_type": "code",
   "execution_count": 34,
   "metadata": {},
   "outputs": [
    {
     "name": "stdout",
     "output_type": "stream",
     "text": [
      "You're not a male or not tall.\n"
     ]
    }
   ],
   "source": [
    "is_male = False\n",
    "is_tall = False\n",
    "if is_male and is_tall: \n",
    "    print(\"You're a tall male.\")\n",
    "elif is_male and not(is_tall): \n",
    "    print(\"You're a short male.\")\n",
    "elif not(is_male) and is_tall: \n",
    "    print(\"You're not a male but are tall.\")\n",
    "else:\n",
    "    print(\"You're not a male or not tall.\")    # You're not a male or not tall."
   ]
  },
  {
   "cell_type": "markdown",
   "metadata": {},
   "source": [
    "## if Statements & Comparisons"
   ]
  },
  {
   "cell_type": "markdown",
   "metadata": {},
   "source": [
    "* Comparison operators: =, !=, >=, <=, … \n",
    "* Comparison operators can be applied to numbers, stings, and booleans. \n",
    "* The example below creates a function for extracting the maximum value."
   ]
  },
  {
   "cell_type": "code",
   "execution_count": 35,
   "metadata": {},
   "outputs": [
    {
     "name": "stdout",
     "output_type": "stream",
     "text": [
      "8\n"
     ]
    }
   ],
   "source": [
    "def max_num(num1, num2, num3):\n",
    "    if num1 >= num2 and num1 >= num3:\n",
    "        return num1\n",
    "    elif num2 >= num1 and num2 >= num3:\n",
    "        return num2\n",
    "    else:\n",
    "        return num3\n",
    "print(max_num(5, 8, 3))"
   ]
  },
  {
   "cell_type": "markdown",
   "metadata": {},
   "source": [
    "## Building a More Advanced Calculator"
   ]
  },
  {
   "cell_type": "code",
   "execution_count": 37,
   "metadata": {},
   "outputs": [
    {
     "name": "stdout",
     "output_type": "stream",
     "text": [
      "Enter first number: 1\n",
      "Enter operator: +\n",
      "Enter second number: 2\n",
      "3.0\n"
     ]
    }
   ],
   "source": [
    "num1 = float(input(\"Enter first number: \"))\n",
    "op = input(\"Enter operator: \")\n",
    "num2 = float(input(\"Enter second number: \"))\n",
    "if op == \"+\":\n",
    "    print(num1 + num2)\n",
    "elif op == \"-\":\n",
    "    print(num1 - num2)\n",
    "elif op == \"*\":\n",
    "    print(num1 * num2)\n",
    "elif op == \"/\":\n",
    "    print(num1 / num2)\n",
    "else:\n",
    "    print(\"Invalid operator\")"
   ]
  },
  {
   "cell_type": "markdown",
   "metadata": {},
   "source": [
    "## Dictionaries in { } with Key-Value Pairs"
   ]
  },
  {
   "cell_type": "markdown",
   "metadata": {},
   "source": [
    "* A dictionary is a special data structure in Python. \n",
    "* It stores key-value pairs which can be accessed by key. \n",
    "* A key is a word as unique identifier. The **keys should be unique** in a dictionary. \n",
    "* The keys can be strings or numbers as long as they are unique in a dictionary.  "
   ]
  },
  {
   "cell_type": "code",
   "execution_count": 38,
   "metadata": {},
   "outputs": [
    {
     "name": "stdout",
     "output_type": "stream",
     "text": [
      "November\n",
      "December\n",
      "None\n",
      "None\n",
      "Not a valid key\n"
     ]
    }
   ],
   "source": [
    "# Conversion\n",
    "# Jan -> January\n",
    "# Feb -> February \n",
    "\n",
    "monthConversions = {\n",
    "    \"Jan\": \"January\",\n",
    "    \"Feb\": \"February\",\n",
    "    \"Mar\": \"March\",\n",
    "    \"Apr\": \"April\",\n",
    "    \"May\": \"May\",\n",
    "    \"Jun\": \"June\",\n",
    "    \"Jul\": \"July\",\n",
    "    \"Aug\": \"August\",\n",
    "    \"Sep\": \"September\",\n",
    "    \"Oct\": \"October\",\n",
    "    \"Nov\": \"November\",\n",
    "    \"Dec\": \"December\"\n",
    "}\n",
    "print(monthConversions[\"Nov\"])      # November\n",
    "print(monthConversions.get(\"Dec\"))  # December\n",
    "\n",
    "# .get() creates some sort of default value, like None. \n",
    "print(monthConversions.get(\"Snap\")) # None\n",
    "print(monthConversions.get(\"dec\"))  # None\n",
    "\n",
    "# We can specify a desired warning message in .get()\n",
    "print(monthConversions.get(\"dec\", \"Not a valid key\"))    # Not a valid key"
   ]
  },
  {
   "cell_type": "code",
   "execution_count": 40,
   "metadata": {},
   "outputs": [],
   "source": [
    "# dir(monthConversions)"
   ]
  },
  {
   "cell_type": "markdown",
   "metadata": {},
   "source": [
    "## while loop "
   ]
  },
  {
   "cell_type": "code",
   "execution_count": 41,
   "metadata": {},
   "outputs": [
    {
     "name": "stdout",
     "output_type": "stream",
     "text": [
      "1\n",
      "2\n",
      "3\n",
      "4\n",
      "5\n",
      "The while loop is done.\n"
     ]
    }
   ],
   "source": [
    "i = 1\n",
    "while i <= 5: \n",
    "    print(i)\n",
    "    i += 1      # short for: i = i + 1\n",
    "print(\"The while loop is done.\")"
   ]
  },
  {
   "cell_type": "markdown",
   "metadata": {},
   "source": [
    "## Building a Guessing Game"
   ]
  },
  {
   "cell_type": "code",
   "execution_count": 42,
   "metadata": {},
   "outputs": [
    {
     "name": "stdout",
     "output_type": "stream",
     "text": [
      "Enter guess: d\n",
      "Enter guess: giraffe\n",
      "You win!\n"
     ]
    }
   ],
   "source": [
    "secret_word = \"giraffe\"\n",
    "guess = \"\"\n",
    "while guess != secret_word:\n",
    "    guess = input(\"Enter guess: \")\n",
    "print(\"You win!\")"
   ]
  },
  {
   "cell_type": "markdown",
   "metadata": {},
   "source": [
    "## A More Complicated while Loop\n",
    "Giving an Upper Limit of Guesses"
   ]
  },
  {
   "cell_type": "code",
   "execution_count": 44,
   "metadata": {},
   "outputs": [
    {
     "name": "stdout",
     "output_type": "stream",
     "text": [
      "Enter guess: giraffe\n",
      "You win!\n"
     ]
    }
   ],
   "source": [
    "secret_word = \"giraffe\"\n",
    "guess = \"\"\n",
    "guess_count = 0\n",
    "guess_limit = 3\n",
    "out_of_guesses = False\n",
    "while guess != secret_word and not(out_of_guesses):\n",
    "    if guess_count < guess_limit:\n",
    "        guess = input(\"Enter guess: \")\n",
    "        guess_count += 1\n",
    "    else:\n",
    "        out_of_guesses = True\n",
    "if out_of_guesses:\n",
    "    print(\"Out of Guesses, YOU LOSE!\")\n",
    "else:\n",
    "    print(\"You win!\")"
   ]
  },
  {
   "cell_type": "markdown",
   "metadata": {},
   "source": [
    "## for Loop\n",
    "+ for loops can loop over strings, a series of numbers, and arraries."
   ]
  },
  {
   "cell_type": "code",
   "execution_count": 45,
   "metadata": {},
   "outputs": [
    {
     "name": "stdout",
     "output_type": "stream",
     "text": [
      "f\n",
      "l\n",
      "o\n",
      "w\n",
      "e\n",
      "r\n",
      "s\n"
     ]
    }
   ],
   "source": [
    "# 1. for loop loops over every single character in the string\n",
    "for letter in \"flowers\":   # letter is a variable here with changing value\n",
    "    print(letter)"
   ]
  },
  {
   "cell_type": "code",
   "execution_count": 47,
   "metadata": {},
   "outputs": [],
   "source": [
    "# help(print)"
   ]
  },
  {
   "cell_type": "code",
   "execution_count": 52,
   "metadata": {},
   "outputs": [
    {
     "name": "stdout",
     "output_type": "stream",
     "text": [
      "Smith\n",
      "Mike\n",
      "John\n"
     ]
    }
   ],
   "source": [
    "# 2. for loop loops over an array\n",
    "friends = [\"Smith\", \"Mike\", \"John\"]\n",
    "for k in friends:\n",
    "    print(k)"
   ]
  },
  {
   "cell_type": "code",
   "execution_count": 53,
   "metadata": {},
   "outputs": [
    {
     "name": "stdout",
     "output_type": "stream",
     "text": [
      "Smith, Mike, John, "
     ]
    }
   ],
   "source": [
    "# print() \n",
    "friends = [\"Smith\", \"Mike\", \"John\"]\n",
    "for k in friends:\n",
    "    print(k, end=', ')"
   ]
  },
  {
   "cell_type": "code",
   "execution_count": 54,
   "metadata": {},
   "outputs": [
    {
     "name": "stdout",
     "output_type": "stream",
     "text": [
      "0\n",
      "1\n",
      "2\n",
      "3\n",
      "4\n"
     ]
    }
   ],
   "source": [
    "# 3. for loop loops over a series of numbers\n",
    "for index in range(5):    # 0~4 \n",
    "    print(index)"
   ]
  },
  {
   "cell_type": "code",
   "execution_count": 55,
   "metadata": {},
   "outputs": [
    {
     "name": "stdout",
     "output_type": "stream",
     "text": [
      "3\n",
      "4\n"
     ]
    }
   ],
   "source": [
    "for index in range(3, 5):    # 3~4 \n",
    "    print(index)"
   ]
  },
  {
   "cell_type": "code",
   "execution_count": 1,
   "metadata": {},
   "outputs": [
    {
     "name": "stdout",
     "output_type": "stream",
     "text": [
      "Smith\n",
      "Mike\n",
      "John\n"
     ]
    }
   ],
   "source": [
    "friends = [\"Smith\", \"Mike\", \"John\"]\n",
    "for index in range(len(friends)): # range(3): get indices 0, 1, 2\n",
    "    print(friends[index])"
   ]
  },
  {
   "cell_type": "code",
   "execution_count": 2,
   "metadata": {},
   "outputs": [
    {
     "name": "stdout",
     "output_type": "stream",
     "text": [
      "first iteration\n",
      "not first iteration\n",
      "not first iteration\n",
      "not first iteration\n",
      "not first iteration\n"
     ]
    }
   ],
   "source": [
    "for index in range(5):\n",
    "    if index == 0:\n",
    "        print(\"first iteration\")\n",
    "    else:\n",
    "        print(\"not first iteration\")"
   ]
  },
  {
   "cell_type": "markdown",
   "metadata": {},
   "source": [
    "## Exponent Function"
   ]
  },
  {
   "cell_type": "code",
   "execution_count": 5,
   "metadata": {},
   "outputs": [
    {
     "name": "stdout",
     "output_type": "stream",
     "text": [
      "9\n"
     ]
    }
   ],
   "source": [
    "print(3**2)    # 9"
   ]
  },
  {
   "cell_type": "code",
   "execution_count": 6,
   "metadata": {},
   "outputs": [
    {
     "name": "stdout",
     "output_type": "stream",
     "text": [
      "9\n"
     ]
    }
   ],
   "source": [
    "def raise_to_power(base_num, pow_num):\n",
    "    result = 1\n",
    "    for index in range(pow_num):\n",
    "        result = result * base_num \n",
    "    return result\n",
    "print(raise_to_power(3, 2))    # 9"
   ]
  },
  {
   "cell_type": "markdown",
   "metadata": {},
   "source": [
    "## 2D (Two-Dimensional) Lists & Nested Loops\n",
    "* 2D list: a list in another list"
   ]
  },
  {
   "cell_type": "code",
   "execution_count": 7,
   "metadata": {},
   "outputs": [
    {
     "name": "stdout",
     "output_type": "stream",
     "text": [
      "1\n",
      "7\n"
     ]
    }
   ],
   "source": [
    "# for example, a 4-row grid\n",
    "number_grid = [\n",
    "    [1, 2, 3],\n",
    "    [4, 5, 6],\n",
    "    [7, 8, 9],\n",
    "    [0]\n",
    "]\n",
    "print(number_grid[0][0])\n",
    "print(number_grid[2][0])"
   ]
  },
  {
   "cell_type": "code",
   "execution_count": 8,
   "metadata": {},
   "outputs": [
    {
     "name": "stdout",
     "output_type": "stream",
     "text": [
      "[1, 2, 3]\n",
      "[4, 5, 6]\n",
      "[7, 8, 9]\n",
      "[0]\n"
     ]
    }
   ],
   "source": [
    "# Nested for loops: for loops inside another for loop to print out \n",
    "# all these elements inside the 4-row grid\n",
    "number_grid = [\n",
    "    [1, 2, 3],\n",
    "    [4, 5, 6],\n",
    "    [7, 8, 9],\n",
    "    [0]\n",
    "]\n",
    "for row in number_grid:\n",
    "    print(row)"
   ]
  },
  {
   "cell_type": "code",
   "execution_count": 11,
   "metadata": {},
   "outputs": [
    {
     "name": "stdout",
     "output_type": "stream",
     "text": [
      "<class 'list'>\n",
      "1\n",
      "2\n",
      "3\n",
      "4\n",
      "5\n",
      "6\n",
      "7\n",
      "8\n",
      "9\n",
      "0\n"
     ]
    }
   ],
   "source": [
    "# To have access each value inside the 2D array\n",
    "number_grid = [\n",
    "    [1, 2, 3],\n",
    "    [4, 5, 6],\n",
    "    [7, 8, 9],\n",
    "    [0]\n",
    "]\n",
    "for row in number_grid:\n",
    "    for col in row: \n",
    "        print(col)"
   ]
  },
  {
   "cell_type": "markdown",
   "metadata": {},
   "source": [
    "## Building a Translator"
   ]
  },
  {
   "cell_type": "markdown",
   "metadata": {},
   "source": [
    "* all vowels are converted to g\n",
    "    + vowels -> g    \n",
    "* for example:\n",
    "    + dog -> dgg\n",
    "    + cat -> cgt "
   ]
  },
  {
   "cell_type": "code",
   "execution_count": 12,
   "metadata": {},
   "outputs": [
    {
     "name": "stdout",
     "output_type": "stream",
     "text": [
      "Enter a phrase: hotdog\n",
      "hgtdgg\n"
     ]
    }
   ],
   "source": [
    "# translate function\n",
    "# if statement inside a for loop:\n",
    "def translate(phrase):\n",
    "    translation = \"\"\n",
    "    for letter in phrase:\n",
    "        if letter in \"AEIOUaeiou\":\n",
    "            translation = translation + \"g\"\n",
    "        else:\n",
    "            translation = translation + letter\n",
    "    return translation\n",
    "\n",
    "print(translate(input(\"Enter a phrase: \")))"
   ]
  },
  {
   "cell_type": "code",
   "execution_count": 14,
   "metadata": {},
   "outputs": [
    {
     "name": "stdout",
     "output_type": "stream",
     "text": [
      "Enter a phrase: hOtdOg\n",
      "hgtdgg\n"
     ]
    }
   ],
   "source": [
    "# Same result as the above\n",
    "def translate(phrase):\n",
    "    translation = \"\"\n",
    "    for letter in phrase:\n",
    "        if letter.lower() in \"aeiou\":\n",
    "            translation = translation + \"g\"\n",
    "        else:\n",
    "            translation = translation + letter\n",
    "    return translation\n",
    "\n",
    "print(translate(input(\"Enter a phrase: \")))"
   ]
  },
  {
   "cell_type": "code",
   "execution_count": 15,
   "metadata": {},
   "outputs": [
    {
     "name": "stdout",
     "output_type": "stream",
     "text": [
      "Enter a phrase: hOtdog\n",
      "hGtdgg\n"
     ]
    }
   ],
   "source": [
    "# Dealing with capital letter: keeping capital letters\n",
    "def translate(phrase):\n",
    "    translation = \"\"\n",
    "    for letter in phrase:\n",
    "        if letter.lower() in \"aeiou\":\n",
    "            if letter.isupper():\n",
    "                translation = translation + \"G\"\n",
    "            else:\n",
    "                translation = translation + \"g\"\n",
    "        else:\n",
    "            translation = translation + letter\n",
    "    return translation\n",
    "\n",
    "print(translate(input(\"Enter a phrase: \")))"
   ]
  },
  {
   "cell_type": "markdown",
   "metadata": {},
   "source": [
    "## Comments: for human being\n",
    "* Triple double quote (\"\"\") or triple single quote (''') are used for multi-line commenting"
   ]
  },
  {
   "cell_type": "code",
   "execution_count": null,
   "metadata": {},
   "outputs": [],
   "source": [
    "# 1. Single-Line Comment: using hash tag #\n",
    "\n",
    "# This prints out a string    # This is a comment without any output\n",
    "print(\"Comments are fun.\")    # output: Comments are fun."
   ]
  },
  {
   "cell_type": "code",
   "execution_count": null,
   "metadata": {},
   "outputs": [],
   "source": [
    "# 2. Multi-Line Comment: using ‘triple quotation mark’ either double quote (\"\"\") or single quote (''') for multiple lines of comments\n",
    "\"\"\"\n",
    "Author: www.w3schools.in\n",
    "Description:\n",
    "Writes the words Hello World on the screen\n",
    "\"\"\""
   ]
  },
  {
   "cell_type": "code",
   "execution_count": null,
   "metadata": {},
   "outputs": [],
   "source": [
    "# or \n",
    "''' \n",
    "Author: www.w3schools.in\n",
    "Description:\n",
    "Writes the words Hello World on the screen\n",
    "'''"
   ]
  },
  {
   "cell_type": "markdown",
   "metadata": {},
   "source": [
    "## try:-except: \n",
    "* Syntax\n",
    "    \n",
    "    try:\n",
    "        ...\n",
    "    except:\n",
    "        ...\n",
    "* It catches errors and avoids interrupting the program running, but showing some messages"
   ]
  },
  {
   "cell_type": "code",
   "execution_count": 16,
   "metadata": {},
   "outputs": [
    {
     "name": "stdout",
     "output_type": "stream",
     "text": [
      "Enter a number: 14\n",
      "14\n"
     ]
    }
   ],
   "source": [
    "number = int(input(\"Enter a number: \"))\n",
    "print(number)"
   ]
  },
  {
   "cell_type": "code",
   "execution_count": 20,
   "metadata": {},
   "outputs": [
    {
     "name": "stdout",
     "output_type": "stream",
     "text": [
      "Enter a number: cat\n"
     ]
    },
    {
     "ename": "ValueError",
     "evalue": "invalid literal for int() with base 10: 'cat'",
     "output_type": "error",
     "traceback": [
      "\u001b[1;31m---------------------------------------------------------------------------\u001b[0m",
      "\u001b[1;31mValueError\u001b[0m                                Traceback (most recent call last)",
      "\u001b[1;32m<ipython-input-20-f4e642596375>\u001b[0m in \u001b[0;36m<module>\u001b[1;34m\u001b[0m\n\u001b[0;32m      1\u001b[0m \u001b[1;31m# input a string and get an error\u001b[0m\u001b[1;33m\u001b[0m\u001b[1;33m\u001b[0m\u001b[1;33m\u001b[0m\u001b[0m\n\u001b[1;32m----> 2\u001b[1;33m \u001b[0mnumber\u001b[0m \u001b[1;33m=\u001b[0m \u001b[0mint\u001b[0m\u001b[1;33m(\u001b[0m\u001b[0minput\u001b[0m\u001b[1;33m(\u001b[0m\u001b[1;34m\"Enter a number: \"\u001b[0m\u001b[1;33m)\u001b[0m\u001b[1;33m)\u001b[0m\u001b[1;33m\u001b[0m\u001b[1;33m\u001b[0m\u001b[0m\n\u001b[0m\u001b[0;32m      3\u001b[0m \u001b[0mprint\u001b[0m\u001b[1;33m(\u001b[0m\u001b[0mnumber\u001b[0m\u001b[1;33m)\u001b[0m    \u001b[1;31m# Error message\u001b[0m\u001b[1;33m\u001b[0m\u001b[1;33m\u001b[0m\u001b[0m\n",
      "\u001b[1;31mValueError\u001b[0m: invalid literal for int() with base 10: 'cat'"
     ]
    }
   ],
   "source": [
    "# input a string and get an error\n",
    "number = int(input(\"Enter a number: \"))\n",
    "print(number)    # Error message"
   ]
  },
  {
   "cell_type": "markdown",
   "metadata": {},
   "source": [
    "###### Two examples below show that we can speficify desired error messages for any types of errors by using try-except block."
   ]
  },
  {
   "cell_type": "code",
   "execution_count": 23,
   "metadata": {},
   "outputs": [
    {
     "name": "stdout",
     "output_type": "stream",
     "text": [
      "Enter a number: cat\n",
      "Invalid Input\n"
     ]
    }
   ],
   "source": [
    "# Using try-except blocks\n",
    "# Error type: Invalid data type input\n",
    "try:\n",
    "    number = int(input(\"Enter a number: \"))\n",
    "    print(number)\n",
    "except:\n",
    "    print(\"Invalid Input\")    # It prints out the spceified error messaage"
   ]
  },
  {
   "cell_type": "code",
   "execution_count": 38,
   "metadata": {},
   "outputs": [
    {
     "name": "stdout",
     "output_type": "stream",
     "text": [
      "Try again!\n"
     ]
    }
   ],
   "source": [
    "# Using try-except blocks\n",
    "# Error type: Divided by zero\n",
    "try:\n",
    "    value = 10 / 0\n",
    "    number = int(input(\"Enter a number: \"))\n",
    "    print(number)\n",
    "except:\n",
    "    print(\"Try again!\")     # It prints out the specified error messaage"
   ]
  },
  {
   "cell_type": "code",
   "execution_count": null,
   "metadata": {},
   "outputs": [],
   "source": [
    "# We can specify different error messages for different types of errors \n",
    "\n",
    "try:\n",
    "    value = 10 / 0\n",
    "    number = int(input(\"Enter a number: \"))\n",
    "    print(number)\n",
    "except ZeroDivisionError:\n",
    "    print(\"Divided by zero\")     \n",
    "except ValueError:\n",
    "    print(\"Invalid Input\")   "
   ]
  },
  {
   "cell_type": "code",
   "execution_count": 37,
   "metadata": {},
   "outputs": [],
   "source": [
    "# help(ZeroDivisionError)"
   ]
  },
  {
   "cell_type": "code",
   "execution_count": 35,
   "metadata": {},
   "outputs": [],
   "source": [
    "# help(ValueError)"
   ]
  },
  {
   "cell_type": "code",
   "execution_count": 2,
   "metadata": {},
   "outputs": [
    {
     "name": "stdout",
     "output_type": "stream",
     "text": [
      "Enter a number: cat\n",
      "Invalid Input\n"
     ]
    }
   ],
   "source": [
    "# Removing this line of code: value = 10 / 0, and input a string, \n",
    "#　we get \"Invalid Input\"\n",
    "try:\n",
    "    number = int(input(\"Enter a number: \"))\n",
    "    print(number)\n",
    "except ZeroDivisionError:\n",
    "    print(\"Divided by zero\")     \n",
    "except ValueError:\n",
    "    print(\"Invalid Input\")   "
   ]
  },
  {
   "cell_type": "markdown",
   "metadata": {},
   "source": [
    "## Reading Files\n",
    "\n",
    "* Reading external files in Python such as text files, csv files, or html files \n",
    "* Python read command allows you to read a file that is stored outside of Python  \n",
    "* This section discusses reading files, opening files, closing files, etc. "
   ]
  },
  {
   "cell_type": "code",
   "execution_count": null,
   "metadata": {},
   "outputs": [],
   "source": [
    "# Suppose we want to read in an external file called employee.txt which resides in the directory of \n",
    "#  \"D:/Python/Tutorial/1\". \n",
    "# PLese create the employee.txt file which contains a list of employees and looks like the following:\n",
    "\n",
    "# Jim - Salesman\n",
    "# Dwight - Salesman\n",
    "# Pam - Receptionist\n",
    "# Michael - Manager\n",
    "# Oscar - Accountant\n",
    "\n",
    "#----------\n",
    "\n",
    "# We then run the following code in Spider of Anaconda to check if the above employee.txt file is readable. If it's readable then we get the result of True, o.w., False.\n",
    "\n",
    "# For Windows 10 users:\n",
    "#   1. Click \"Start\" icon \n",
    "#       => Anaconda \n",
    "#       => Spider to activate Spider of Anaconda  \n",
    "#   2. On the left editor panel, type the following code:\n",
    "\n",
    "# Suppose the employee.txt file resides in the directory of \"D:/Python/Tutorial\". We run the following code on Spider. \n",
    "  \n",
    "import os\n",
    "os.getcwd()\n",
    "os.chdir(\"D:/Python/Tutorial/1\")          # change your directory\n",
    "\n",
    "employee_file = open(\"employee.txt\", \"r\") # read the external file\n",
    "print(employee_file.readable())           # True; Boolean\n",
    "employee_file.close()                     # After opening a file, we also need to close the file. \n",
    "\n",
    "# Highlight the above code, right click the highlighted block code and select \"Run selection or\n",
    "#  current line\".\n",
    "# The result should be shown on the right Ipython console as: True."
   ]
  },
  {
   "cell_type": "markdown",
   "metadata": {},
   "source": [
    "* The second argument of the following code has several options:\n",
    "    + employee_file = open(\"employee.txt\", \"r\")\n",
    "\n",
    "* Options for the 2nd argument of open() funciton:\n",
    "    + \"r\": read mode\n",
    "    + \"w\": write mode \n",
    "    + \"a\": append mode which cannot change the file but can append info to the file \n",
    "    + \"r+\": read and write mode"
   ]
  },
  {
   "cell_type": "code",
   "execution_count": null,
   "metadata": {},
   "outputs": [],
   "source": [
    "# Suppose the employee.txt file resides in the directory of \"D:/Python/Tutorial\". We run the following code on Spider.\n",
    "\n",
    "# If we change the mode to \"w\" from \"r\", we get False.\n",
    "\n",
    "import os\n",
    "os.getcwd()                       # check the current directory before changing it\n",
    "os.chdir(\"D:/Python/Tutorial/1\")  # change your directory \n",
    "\n",
    "employee_file = open(\"employee.txt\", \"w\")  # Be careful! It overwrites employee.txt to be empty \n",
    "print(employee_file.readable())   # Tt returns \"False\" since we read the file with \"w\" mode, not \"r\"\n",
    "employee_file.close()"
   ]
  },
  {
   "cell_type": "code",
   "execution_count": null,
   "metadata": {},
   "outputs": [],
   "source": [
    "# Suppose the employee.txt file resides in the directory of \"D:/Python/Tutorial\". We run the following code on Spider.\n",
    "\n",
    "# If we set the mode of open() function to \"r\", after running the code on Spider, it reads and prints out the employee.txt file.\n",
    "\n",
    "import os\n",
    "os.getcwd()\n",
    "os.chdir(\"D:/Python/Tutorial/1\")\n",
    "\n",
    "employee_file = open(\"employee.txt\", \"r\")\n",
    "print(employee_file.read())\n",
    "employee_file.close()\n",
    "\n",
    "# Output from employee.txt file:\n",
    "# Jim - Salesman\n",
    "# Dwight - Salesman\n",
    "# Pam - Receptionist\n",
    "# Michael - Manager\n",
    "# Oscar - Accountant"
   ]
  },
  {
   "cell_type": "markdown",
   "metadata": {},
   "source": [
    "## Reading Individual Lines from an External File"
   ]
  },
  {
   "cell_type": "code",
   "execution_count": null,
   "metadata": {},
   "outputs": [],
   "source": [
    "# Suppose the employee.txt file resides in the directory of \"D:/Python/Tutorial\". We run the following code on Spider. \n",
    "\n",
    "# Printing the first line of the employee.txt file\n",
    "\n",
    "import os\n",
    "os.getcwd()                       # check the current directory before changing it\n",
    "os.chdir(\"D:/Python/Tutorial/1\")  # change your directory \n",
    "\n",
    "employee_file = open(\"employee.txt\", \"r\")\n",
    "print(employee_file.readline())    # Jim – Salesman  (read the first line of the file)\n",
    "employee_file.close()"
   ]
  },
  {
   "cell_type": "code",
   "execution_count": null,
   "metadata": {},
   "outputs": [],
   "source": [
    "# Suppose the employee.txt file resides in the directory of \"D:/Python/Tutorial\". We run the following code on Spider. \n",
    "\n",
    "# Printing the first 2 lines of the employee.txt file\n",
    "\n",
    "import os\n",
    "os.getcwd()                       # check the current directory before changing it\n",
    "os.chdir(\"D:/Python/Tutorial/1\")  # change your directory \n",
    "\n",
    "employee_file = open(\"employee.txt\", \"r\")\t\n",
    "print(employee_file.readline())\t  # Jim – Salesman  \n",
    "print(employee_file.readline())\t  # Dwight – Salesman \n",
    "employee_file.close() \t"
   ]
  },
  {
   "cell_type": "code",
   "execution_count": null,
   "metadata": {},
   "outputs": [],
   "source": [
    "# Suppose the employee.txt file resides in the directory of \"D:/Python/Tutorial\". We run the following code on Spider. \n",
    "\n",
    "# Using .readlines() function to print the lines of the file in list format\n",
    "\n",
    "import os\n",
    "os.getcwd()                       # check the current directory before changing it\n",
    "os.chdir(\"D:/Python/Tutorial/1\")  # change your directory \n",
    "\n",
    "employee_file = open(\"employee.txt\", \"r\") \n",
    "print(employee_file.readlines())  # it takes each line and put in an array\n",
    "employee_file.close() \t\n"
   ]
  },
  {
   "cell_type": "code",
   "execution_count": null,
   "metadata": {},
   "outputs": [],
   "source": [
    "# Suppose the employee.txt file resides in the directory of \"D:/Python/Tutorial\". We run the following code on Spider. \n",
    "\n",
    "# Using .readlines()[] to print specific lines of the file \n",
    "\n",
    "import os\n",
    "os.getcwd()                       # check the current directory before changing it\n",
    "os.chdir(\"D:/Python/Tutorial/1\")  # change your directory \n",
    "\n",
    "employee_file = open(\"employee2.txt\", \"r\")\n",
    "print(employee_file.readlines()[1])    # it takes each line and put in an array and then prints the [1] element\n",
    "employee_file.close() \n",
    "\n",
    "# Output:\n",
    "# Dwight - Salesman"
   ]
  },
  {
   "cell_type": "code",
   "execution_count": null,
   "metadata": {},
   "outputs": [],
   "source": [
    "# Suppose the employee.txt file resides in the directory of \"D:/Python/Tutorial\". We run the following code on Spider. \n",
    "\n",
    "# Combining .readlines()[] and for loop \n",
    "\n",
    "import os\n",
    "os.getcwd()                       # check the current directory before changing it\n",
    "os.chdir(\"D:/Python/Tutorial/1\")  # change your directory \n",
    "\n",
    "employee_file = open(\"employee.txt\", \"r\")\n",
    "for employee in employee_file.readlines():\n",
    "    print(employee)\n",
    "employee_file.close() \n",
    "\n",
    "# Outupt:\n",
    "# Jim - Salesman\n",
    "# \n",
    "# Dwight - Salesman\n",
    "# \n",
    "# Pam - Receptionist\n",
    "# \n",
    "# Michael - Manager\n",
    "# \n",
    "# Oscar - Accountant"
   ]
  },
  {
   "cell_type": "markdown",
   "metadata": {},
   "source": [
    "## Writing to Files"
   ]
  },
  {
   "cell_type": "markdown",
   "metadata": {},
   "source": [
    "* Writing and appending data to a file \n",
    "    + Adding a new employee to the file\n",
    "    + Using \\n to append data to the new line below the bottom of the file\n",
    "    + Writing/overwriting a file \n",
    "    + Creating a new file \"employee1.txt\"\n",
    "    + Creating a new HTML file \"index.html\""
   ]
  },
  {
   "cell_type": "code",
   "execution_count": null,
   "metadata": {},
   "outputs": [],
   "source": [
    "# Adding a new employee to the file\n",
    "import os\n",
    "os.getcwd()\n",
    "os.chdir(\"D:/Python/Tutorial/1\") \n",
    "\n",
    "employee_file = open(\"employee.txt\", \"a\")       # \"a\": appending mode\n",
    "employee_file.write(\"Toby - Human Resouces\")    # check the employee.txt file for this appended person \n",
    "employee_file.close()                           # the file must be closed\n",
    "\n",
    "# Using \\n to append data to the new line below the bottom of the employee.txt file\n",
    "import os\n",
    "os.getcwd()\n",
    "os.chdir(\"D:/Python/Tutorial/1\")\n",
    "\n",
    "employee_file = open(\"employee.txt\", \"a\")           # \"a\": appending mode\n",
    "employee_file.write(\"\\nKelly – Customer Service\")   # check the employee.txt file for this appended person \n",
    "employee_file.close()                               # the file must be closed\n",
    "\n",
    "# Writing/overwriting a file \n",
    "import os\n",
    "os.getcwd()\n",
    "os.chdir(\"D:/Python/Tutorial/1\")\n",
    "\n",
    "employee_file = open(\"employee.txt\", \"w\")           # \"w\": writing and overwriting a file\n",
    "employee_file.write(\"\\nKelly – Customer Service\")   # check the overwritten employee.txt file  \n",
    "employee_file.close() \n",
    "\n",
    "# Creating a new file \"employee1.txt\"\n",
    "import os\n",
    "os.getcwd()\n",
    "os.chdir(\"D:/Python/Tutorial/1\")\n",
    "\n",
    "employee_file = open(\"employee1.txt\", \"w\")          # \"employee1.txt\": a new file name\n",
    "employee_file.write(\"\\nKelly – Customer Service\")   # check the overwritten employee.txt file  \n",
    "employee_file.close()  \n",
    "\n",
    "# Creating a new HTML file \"index.html\"\n",
    "import os\n",
    "os.getcwd()\n",
    "os.chdir(\"D:/Python/Tutorial/1\")\n",
    "\n",
    "employee_file = open(\"index.html\", \"w\")     # \"index.html\": a new file name\n",
    "employee_file.write(\"<p>This is HTML</p>\")  # we can find the newly created HTML file, index.html, in the folder \n",
    "employee_file.close() "
   ]
  },
  {
   "cell_type": "markdown",
   "metadata": {},
   "source": [
    "## Modules and Pip"
   ]
  },
  {
   "cell_type": "markdown",
   "metadata": {},
   "source": [
    "A module is an external Python file with many functions and variables, which can be imported into our current Python file. "
   ]
  },
  {
   "cell_type": "code",
   "execution_count": null,
   "metadata": {},
   "outputs": [],
   "source": [
    "# Suppose we have a Python file called useful_tools.py which resides in the directory of \n",
    "# \"D:/Python/Tutorial/1\". It looks like:\n",
    "\n",
    "# useful_tools.py\n",
    "import random\n",
    "\n",
    "feet_in_mile = 5280\n",
    "meters_in_kilometer = 1000\n",
    "beatles = [\"John Lennon\", \"Paul McCartney\", \"Ringo Star\"]\n",
    "\n",
    "def get_file_ext(filename): # The function gives you the file extension name when you give a filename \n",
    "    return filename[filename_index(\".\") + 1:]\n",
    "\n",
    "def roll_dice(num):\t        # The function gives you a random number when you give it a number\n",
    "    return random.randint(1, num)"
   ]
  },
  {
   "cell_type": "code",
   "execution_count": null,
   "metadata": {},
   "outputs": [],
   "source": [
    "# In Spider we run the following code to import and use the module \"useful_tools.py\"\n",
    "\n",
    "import os\n",
    "os.getcwd()\n",
    "os.chdir(\"D:/Python/Tutorial/1\")\n",
    "\n",
    "import useful_tools                    # \"useful_tools\" is the module we want to import\n",
    "print(useful_tools.roll_dice(10))     # using the useful_tools.py module"
   ]
  },
  {
   "cell_type": "markdown",
   "metadata": {},
   "source": [
    "## Python Module Index\n",
    "https://docs.python.org/3/py-modindex.html"
   ]
  },
  {
   "cell_type": "markdown",
   "metadata": {},
   "source": [
    "Suppoe we want to install Python modules such as numpy and matplotlib, we do the following procedure. For Windows 10 users:\n",
    "\n",
    "1. Click \"Start\" icon | Click \"Anaconda\" | Click \"Anaconda Prompt\"\n",
    "2. at the prompt, we type:\n",
    "       C:\\Users\\user> pip3 install numpy matplotlib \n",
    "       \n",
    "then we can use all the functions and vairables in the modules numpy and matplotlib on Spider of Anaconda."
   ]
  },
  {
   "cell_type": "markdown",
   "metadata": {},
   "source": [
    "## Classes & Objects"
   ]
  },
  {
   "cell_type": "code",
   "execution_count": null,
   "metadata": {},
   "outputs": [],
   "source": [
    "# Suppose we want to create a class of student data in the module Student.py in which we can use initialized function (__init__) inside a class called Student class to map out the students’ attributes.  \n",
    "\n",
    "# In the following example, inside the \"Student class\", we define initialized function with \"self\" as \n",
    "# actual object and students’ attributes follow behind the \"self\".\n",
    "\n",
    "# class Student:                              # defining Student class\n",
    "#     def __init__(self, name, major, gpa):   # defining initialized function \n",
    "\n",
    "# When we create objects like student1, student2, etc., we pass the students' attributes information \n",
    "# to the initilized function (__init__) in the Student class. \n",
    "# Inside the initialized function, we need to imagine what kind of attributes the students may have,  \n",
    "# like name, major, gpa, is_on_probation, etc.\n",
    "\n",
    "# The code \"self.name = name\" means that we assign the name value (RHS) from the initialized function\n",
    "# to the (LHS) \"self.name\"\n",
    "\n",
    "# Student.py \n",
    "class Student:      # defining Student class\n",
    "    def __init__(self, name, major, gpa, is_on_probation):\n",
    "        self.name = name\n",
    "        self.major = major\n",
    "        self.gpa = gpa\n",
    "        self.is_on_probation = is_on_probation\n",
    "\n",
    "# Suppose we keep the module, Student.py, in the directory of \"D:/Python/Tutorial\". \n",
    "# We run the following code on Spider to call Student.py and print student's attribute information. \n",
    "\n",
    "import os\n",
    "os.getcwd()\n",
    "os.chdir(\"D:/Python/Tutorial/1\")\n",
    "\n",
    "from Student import Student          # from Student.py we import Student class\n",
    "student1 = Student(\"Jim\", \"Business\", 3.1, False)\n",
    "student2 = Student(\"Pam\", \"Art\", 2.5, True)\n",
    "print(student1.name, student1.major, student1.gpa, student1.is_on_probation)    # Jim Business 3.1 False\n",
    "print(student2.name, student1.major, student2.gpa, student2.is_on_probation)    # Pam Business 2.5 True\n",
    "\n",
    "# As the Student class defined above, we might use this class in other files. \n",
    "# A class defines the overall template (or framework) for objects. In other words, \n",
    "# an object is an instance of a class. An object is an actual student with actual information. \n",
    "# We use class to create objects. \n",
    "\n",
    "# The \"student1\" and \"student2\" are created objects having Student attributes which are defined \n",
    "# in the initialized function to access the student information.\n",
    "# In summary, we create a Student class in the module Student.py. We use the Stduent class to \n",
    "# generate student objects such as student1, student2, etc.  \n",
    "\n",
    "# In addition to students, by using the similar class and objects, we can model other things \n",
    "# such as keyboard, mobile phone, bottle, etc. \n",
    "# We can model anything we want and inside the program we can give their attributes."
   ]
  },
  {
   "cell_type": "markdown",
   "metadata": {},
   "source": [
    "## Building a Multiple Choice Quiz"
   ]
  },
  {
   "cell_type": "markdown",
   "metadata": {},
   "source": [
    "Here we are going to build a mutiple choice test by using class, if statement, and loops. "
   ]
  },
  {
   "cell_type": "code",
   "execution_count": null,
   "metadata": {},
   "outputs": [],
   "source": [
    "# In this example, we have two programs, app1.py and Question.py. We can run app1.py to call Question.py in one of the two ways: \n",
    "# (1) copy the code of app1.py to the Spider editor console, highlight the code to run\n",
    "# (2) at Anaconda prompt, change the directory to where the app1.py resides and type: python app1.py.\n",
    "\n",
    "## app1.py (run either on Spider editor console or command lines)\n",
    "\n",
    "import os\n",
    "os.getcwd()\n",
    "os.chdir(\"D:/Python/Tutorial/1\")\n",
    "\n",
    "from Question import Question    # from Question module we import Question class\n",
    "question_prompts = [\n",
    "    \"What clolr are apples?\\n(a) Red/Green\\n(b) Purple\\n(c) Orange\\n\\n\",   # '\\n' means new line\n",
    "    \"What color are Bananas?\\n(a) Teal\\n(b) Magenta\\n(c) Yellow\\n\\n\",\n",
    "    \"What color are strawberries?\\n(a) Yellow\\n(b) Red\\n(c) Blue\\n\\n\"\n",
    "]\n",
    "# creating question objects: (an array)\n",
    "questions = [\n",
    "    Question(question_prompts[0], \"a\"), \n",
    "    Question(question_prompts[1], \"c\"), \n",
    "    Question(question_prompts[2], \"b\") \n",
    "]\n",
    "\n",
    "def run_test(questions):\n",
    "    score = 0\n",
    "    for question in questions:\n",
    "        answer = input(question.prompt)\n",
    "        if answer == question.answer:\n",
    "            score += 1\n",
    "    print(\"You got \" + str(score) + \"/\" + str(len(questions)) + \" correct\")\n",
    "\n",
    "run_test(questions)\n",
    "\n",
    "# Next, we create a Question class, and inside the Question class we store the question prompts and question answers attributes. \n",
    "\n",
    "## Question.py\t(this file should be in the directory of \"D:/Python/Tutorial\")\n",
    "class Question:\n",
    "    def __init__(self, prompt, answer):\t# Every question we have question prompt and question answer as its attributes\n",
    "        self.prompt = prompt\t# class object self.prompt which is assigned the value of prompt stored in initialized function\n",
    "        self.answer = answer\t# class object self.answer which is assigned the value of answer stored in initialized function\n",
    "\n",
    "# Output and user input:\n",
    "# What clolr are apples?\n",
    "# (a) Red/Green\n",
    "# (b) Purple\n",
    "# (c) Orange\n",
    "# \n",
    "# a\n",
    "# \n",
    "# What color are Bananas?\n",
    "# (a) Teal\n",
    "# (b) Magenta\n",
    "# (c) Yellow\n",
    "# \n",
    "# b\n",
    "# \n",
    "# What color are strawberries?\n",
    "# (a) Yellow\n",
    "# (b) Red\n",
    "# (c) Blue\n",
    "# \n",
    "# c\n",
    "# You got 1/3 correct"
   ]
  },
  {
   "cell_type": "markdown",
   "metadata": {},
   "source": [
    "## Object Functions"
   ]
  },
  {
   "cell_type": "markdown",
   "metadata": {},
   "source": [
    "A class function is a function inside a class. We can modify objects of that class to give specific information about those objects.   "
   ]
  },
  {
   "cell_type": "code",
   "execution_count": null,
   "metadata": {},
   "outputs": [],
   "source": [
    "# In this example, we have two programs, Student2.py and app2.py. We use app2.py to call the module \n",
    "# Student2.py to print student attribute information. \n",
    "\n",
    "# Student2.py has the Student class which defines objects a couple of different attributes \n",
    "# following 'self' like name, major, and gpa, so that when we create an object it will have \n",
    "# all those attribute information in it. \n",
    "\n",
    "# Student2.py (Student2.py module defines Student class)\n",
    "class Student:          # defining Student class\n",
    "    def __init__(self, name, major, gpa):\t\n",
    "        self.name = name\n",
    "        self.major = major\n",
    "        self.gpa = gpa\n",
    "\n",
    "# app2.py\n",
    "# Here we create and print two student objects.\n",
    "\n",
    "import os\n",
    "os.getcwd()\n",
    "os.chdir(\"D:/Python/Tutorial/1\")\n",
    "\n",
    "from Student2 import Student       # import Student class from Student2.py\n",
    "student1 = Student(\"Oscar\", \"Accounting\", 3.1)\n",
    "student2 = Student(\"Phyllis\", \"Business\", 3.8)\n",
    "print(student1.name, student1.major, student1.gpa)    # Oscar Accounting 3.1\n",
    "print(student2.name, student2.major, student2.gpa)    # Phyllis Business 3.8\n",
    "\n",
    "# As above, we can define and use a function inside the Student class in Student.py. \n",
    "# We can have access to all of my student objects, as shown below.\n",
    "\n",
    "#-----\n",
    "\n",
    "# Next, we define a function to check which students are on the honor roll (gpa is above 3.5). \n",
    "# This function provides objects to the class. It allows the objects of the class to figure out \n",
    "# whether or not the current student is on the honor roll.  \n",
    "\n",
    "# Student3.py (in Student3.py module we define Student class) \n",
    "class Student:\t\t# Student class \n",
    "    def __init__(self, name, major, gpa):\n",
    "        self.name = name\n",
    "        self.major = major\n",
    "        self.gpa = gpa\n",
    "    \n",
    "    def on_honor_roll(self):\t# putting this function inside the (Student) class \n",
    "        if self.gpa >= 3.5:\n",
    "            return True\n",
    "        else:\n",
    "            return False\n",
    "\n",
    "# app3.py\n",
    "from Student3 import Student        # from Student3.py import Student class \n",
    "student1 = Student(\"Oscar\", \"Accounting\", 3.1)\n",
    "student2 = Student(\"Phyllis\", \"Business\", 3.8)\n",
    "\n",
    "print(student1.on_honor_roll())     # False\n",
    "print(student2.on_honor_roll())     # True\n",
    "\n",
    "# It's very useful to put functions inside the class."
   ]
  },
  {
   "cell_type": "markdown",
   "metadata": {},
   "source": [
    "## Inheritance"
   ]
  },
  {
   "cell_type": "markdown",
   "metadata": {},
   "source": [
    "Inheritance is where we can define a bunch of attributes and functions inside the class\n",
    "and we can create another class and inherit all those attributes and functions.\n",
    "Basically we can have one class with all the functionality of another class \n",
    "without having to pysically write out any of the same messages or attributes."
   ]
  },
  {
   "cell_type": "code",
   "execution_count": null,
   "metadata": {},
   "outputs": [],
   "source": [
    "# Syntax of Inheritance:\n",
    "# \n",
    "#  class AA:\n",
    "#      def ...():\n",
    "#          ...\n",
    "#      def ...():\n",
    "#          ...\n",
    "#  class BB(AA):    # In this way, class BB inherits all functions and attributes from class AA. \n",
    "#      def ...():\n",
    "#          ...\n",
    "#      def ...():\n",
    "#          ..."
   ]
  },
  {
   "cell_type": "markdown",
   "metadata": {},
   "source": [
    "### Class without Inheritance "
   ]
  },
  {
   "cell_type": "code",
   "execution_count": null,
   "metadata": {},
   "outputs": [],
   "source": [
    "# Suppose we define three functions inside Chef class in Chef.py module to model a generic chef \n",
    "# who can do three kinds of dishes including chicken, salad, and bbq ribs. \n",
    "\n",
    "# Chef.py (Chef class. This is a generic chef.)\n",
    "\n",
    "class Chef:     # inside the Chef class we have 3 functions\n",
    "    def make_chicken(self):\n",
    "        print(\"The chef makes a chicken\")\n",
    "\n",
    "    def make_salad(self):\n",
    "        print(\"The chef makes a salad\")\n",
    "\n",
    "    def make_special_dish(self):\n",
    "        print(\"The chef makes bbq ribs\")\n",
    "\n",
    "# app4.py\n",
    "\n",
    "import os\n",
    "os.getcwd()\n",
    "os.chdir(\"D:/Python/Tutorial/1\")\n",
    "\n",
    "from Chef import Chef       # from Chef.py module import Chef class\n",
    "myChef = Chef()\n",
    "myChef.make_chicken()       # The chef makes a chicken\n",
    "myChef.make_special_dish()  # The chef makes bbq ribs\n",
    "\n",
    "# Next, we use the ChineseChef.py module to create ChineseChef class which models another type \n",
    "# of chef. Suppose the Chinese Chef is a special type of chef who can do any generic Chef can do, \n",
    "#　but he can also make the fourth dish, fried rice. \n",
    "\n",
    "# In order to model a Chinese Chef without using inheritance, we have to repeatly define \n",
    "# all three functions which are defined in the Chef.py module and also define the fourth function \n",
    "# inside the ChineseChef class in ChineseChef.py module below.  \n",
    "\n",
    "# ChineseChef.py\n",
    "\n",
    "class ChineseChef:          # defining ChineseChef class\n",
    "    def make_chicken(self):\n",
    "        print(\"The chef makes a chicken\")\n",
    "        \n",
    "    def make_salad(self):\n",
    "        print(\"The chef makes a salad\")\n",
    "        \n",
    "    def make_special_dish(self):\n",
    "        print(\"The chef makes orange chicken\")\n",
    "        \n",
    "    def make_fried_rice(self):\n",
    "        print(\"The chef makes fried rice\")\n",
    "\n",
    "# We use app5.py to a create ChineseChef object below.\n",
    "\n",
    "# app5.py\n",
    "\n",
    "import os\n",
    "os.getcwd()\n",
    "os.chdir(\"D:/Python/Tutorial/1\")\n",
    "\n",
    "from Chef import Chef\n",
    "from ChineseChef import ChineseChef\n",
    "\n",
    "myChef = Chef()\n",
    "myChef.make_special_dish()         # The chef makes bbq ribs\n",
    "\n",
    "myChineseChef = ChineseChef()\n",
    "myChineseChef.make_special_dish()  # The chef makes orange chicken\n",
    "myChineseChef.make_fried_rice()    # The chef makes fried rice"
   ]
  },
  {
   "cell_type": "markdown",
   "metadata": {},
   "source": [
    "### Class with Inheritance"
   ]
  },
  {
   "cell_type": "markdown",
   "metadata": {},
   "source": [
    "By using inheritance the ChineseChef can inherit functions from Chef class without repeatly defining the same functions in both Chef and ChineseChef classes."
   ]
  },
  {
   "cell_type": "code",
   "execution_count": null,
   "metadata": {},
   "outputs": [],
   "source": [
    "# To inherit functions from a class to another class we do the following:\n",
    "# 1. In \"ChineseChef.py\" module, we \n",
    "#     i. change the \"class ChineseChef:\" to \"class ChineseChef(Chef):\" to inherit functions from Chef class.\n",
    "#     ii. add \"from Chef import Chef\" befor \"class ChineseChef(Chef):\"\n",
    "# 2. In \"app6.py\" module, we add \"from Chef import Chef\".  \n",
    "\n",
    "# ChineseChef1.py\n",
    "from Chef import Chef       # import the Chef class from Chef.py module\n",
    "class ChineseChef(Chef):    # After importing the Chef class, we add \"(Chef)\" to \"Class ChineseChef:\" for using Chef class. \n",
    "                            # This enables the ChineseChef class to use all the functions defined in the Chef class\n",
    "#   def make_chicken(self):\n",
    "#       print(\"The chef makes a chicken\")\n",
    "#\n",
    "#   def make_salad(self):\n",
    "#       print(\"The chef makes a salad\")\n",
    "#\n",
    "#   def make_special_dish(self):\n",
    "#       print(\"The chef makes orange chicken\")\n",
    "\n",
    "    def make_special_dish(self):\n",
    "        print(\"The chef makes orange chicken\")\n",
    "\n",
    "    def make_fried_rice(self):\n",
    "        print(\"The chef makes fried rice\")\n",
    "\n",
    "\n",
    "# app6.py  (4:16:59)\n",
    "\n",
    "import os\n",
    "os.getcwd()\n",
    "os.chdir(\"D:/Python/Tutorial/1\")\n",
    "\n",
    "from Chef import Chef\n",
    "from ChineseChef1 import ChineseChef\n",
    "\n",
    "myChef = Chef()\n",
    "myChef.make_chicken()           # The chef makes a chicken. It works since the function is inherited from Chef class  \n",
    "                                #     even though the .make_chicken() is not defined in ChineseChef class.\n",
    "myChef.make_special_dish()      # The chef makes bbq ribs\n",
    "\n",
    "myChineseChef.make_special_dish()# The chef makes orange chicken\n",
    "myChineseChef.make_fried_rice()\t# The chef makes fried rice"
   ]
  },
  {
   "cell_type": "code",
   "execution_count": null,
   "metadata": {},
   "outputs": [],
   "source": [
    "# ChineseChef2.py\n",
    "\n",
    "from Chef import Chef \n",
    "class ChineseChef(Chef):\n",
    "\n",
    "#    def make_chicken(self):\n",
    "#        print(\"The chef makes a chicken\")\n",
    "#        \n",
    "#    def make_salad(self):\n",
    "#        print(\"The chef makes a salad\")\n",
    "#        \n",
    "#    def make_special_dish(self):\n",
    "#        print(\"The chef makes bbq ribs\")\n",
    "#        \n",
    "#    def make_special_dish(self):\n",
    "#        print(\"The chef makes orange chicken\")\n",
    "        \n",
    "    def make_fried_rice(self):\n",
    "        print(\"The chef makes fried rice\")\n",
    "\n",
    "\n",
    "# app7.py\n",
    "\n",
    "import os\n",
    "os.getcwd()\n",
    "os.chdir(\"D:/Python/Tutorial/1\")\n",
    "\n",
    "from Chef import Chef\n",
    "from ChineseChef2 import ChineseChef\n",
    "\n",
    "myChineseChef = ChineseChef()\n",
    "myChineseChef.make_special_dish()    # \"The chef makes bbq ribs\" because it inherits the function of \"def make_special_dish()\" of Chef class"
   ]
  },
  {
   "cell_type": "code",
   "execution_count": null,
   "metadata": {},
   "outputs": [],
   "source": [
    "# In case, both Chef class (in Chef.py) and ChineseChef class (in ChineseChef3.py) \n",
    "# \thave the same function name \"def make_special_dish(self):\" but different actions, such as:\n",
    "\n",
    "# # Chef.py \n",
    "# class Chef:\n",
    "#   def make_chicken(self):\n",
    "#       print(\"The chef makes a chicken\")\n",
    "# \n",
    "#   def make_salad(self):\n",
    "#       print(\"The chef makes a salad\")\n",
    "# \n",
    "#   def make_special_dish(self):\n",
    "#       print(\"The chef makes bbq ribs\")\n",
    "# \n",
    "# # ChineseChef3.py\n",
    "# from Chef import Chef\n",
    "# class ChineseChef(Chef):\t\n",
    "#   def make_special_dish(self):\n",
    "#       print(\"The chef makes orange chicken\")\n",
    "# \n",
    "# In addition, we have app8.py as follows.\n",
    "\n",
    "# app8.py\n",
    "\n",
    "import os\n",
    "os.getcwd()\n",
    "os.chdir(\"D:/Python/Tutorial/1\")\n",
    "\n",
    "from Chef import Chef\n",
    "from ChineseChef3 import ChineseChef \n",
    "\n",
    "myChef = Chef()\n",
    "myChef.make_special_dish()          # The chef makes bbq ribs\n",
    "\n",
    "myChineseChef = ChineseChef()\n",
    "myChineseChef.make_special_dish()   # The chef makes orange chicken\n",
    "\n",
    "# We get the following result:\n",
    "#   The chef makes bbq ribs\n",
    "#   The chef makes orange chicken"
   ]
  },
  {
   "cell_type": "markdown",
   "metadata": {},
   "source": [
    "## Python Interpreter"
   ]
  },
  {
   "cell_type": "code",
   "execution_count": null,
   "metadata": {},
   "outputs": [],
   "source": [
    "# This small section is about Python Interpreter. \n",
    "\n",
    "# Interpreter can excute commands for trying things out\n",
    "# under (Anaconda) prompt:\n",
    "#   In Mac, type python3\n",
    "#   In Windows, type python\n",
    "# then we can type code under the command prompt >>>\n",
    "\n",
    "print(\"Hello World\")\n",
    "num1 = 30\n",
    "num2 = 50\n",
    "print(num1 + num2)\n",
    "\n",
    "def say_hi(name):\n",
    "    print(\"Hello\" + name);\n",
    "say_hi(\"Mike\")"
   ]
  }
 ],
 "metadata": {
  "kernelspec": {
   "display_name": "Python 3",
   "language": "python",
   "name": "python3"
  },
  "language_info": {
   "codemirror_mode": {
    "name": "ipython",
    "version": 3
   },
   "file_extension": ".py",
   "mimetype": "text/x-python",
   "name": "python",
   "nbconvert_exporter": "python",
   "pygments_lexer": "ipython3",
   "version": "3.7.4"
  }
 },
 "nbformat": 4,
 "nbformat_minor": 2
}
